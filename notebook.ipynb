{
 "nbformat": 4,
 "nbformat_minor": 2,
 "metadata": {
  "language_info": {
   "name": "python",
   "codemirror_mode": {
    "name": "ipython",
    "version": 3
   },
   "version": "3.6.8"
  },
  "orig_nbformat": 2,
  "file_extension": ".py",
  "mimetype": "text/x-python",
  "name": "python",
  "npconvert_exporter": "python",
  "pygments_lexer": "ipython3",
  "version": 3
 },
 "cells": [
  {
   "cell_type": "code",
   "execution_count": 8,
   "metadata": {},
   "outputs": [
    {
     "data": {
      "text/plain": "'c:\\\\Users\\\\luism\\\\Documents\\\\projects\\\\bayesian_learning_for_partially_observable_systemss\\\\iPMCMC\\\\ipmcmc'"
     },
     "metadata": {},
     "output_type": "display_data"
    }
   ],
   "source": [
    "import numpy as np\n",
    "import os\n",
    "os.chdir('c:\\\\Users\\\\luism\\\\Documents\\\\projects\\\\bayesian_learning_for_partially_observable_systemss\\\\iPMCMC\\\\ipmcmc')\n",
    "display(os.getcwd())\n",
    "%run seq_mc"
   ]
  },
  {
   "cell_type": "markdown",
   "execution_count": null,
   "metadata": {},
   "outputs": [],
   "source": [
    "# Context\n",
    "$$ x_i $$ \n",
    "\n",
    "## Linear Gaussian State Space Model"
   ]
  },
  {
   "cell_type": "code",
   "execution_count": 9,
   "metadata": {},
   "outputs": [
    {
     "data": {
      "text/plain": "((50, 3), (50, 20))"
     },
     "metadata": {},
     "output_type": "display_data"
    },
    {
     "name": "stderr",
     "output_type": "stream",
     "text": "100%|██████████| 49/49 [00:12<00:00,  3.99it/s]\n"
    }
   ],
   "source": [
    "%run generate_data.py\n",
    "%run linear_gaussian_state_model\n",
    "\n",
    "# 4.1. Linear Gaussian State Space Model\n",
    "from scipy.spatial.transform import Rotation as R\n",
    "np.random.seed(420)\n",
    "\n",
    "# Parameters\n",
    "r = R.from_rotvec(np.array([7*np.pi/10, 3*np.pi/10, np.pi/20]))\n",
    "rotation_matrix = r.as_dcm()\n",
    "scaling_matrix = 0.99*np.eye(3)\n",
    "beta = np.random.dirichlet(np.ones(20)*0.2, 3).transpose()\n",
    "alpha = scaling_matrix@rotation_matrix\n",
    "t_max = 50\n",
    "mu = np.array([0, 1, 1])\n",
    "start_var = 0.1*np.eye(3)\n",
    "omega = np.eye(3)\n",
    "sigma = 0.1*np.eye(20)\n",
    "\n",
    "\n",
    "n_particles = 50\n",
    "\n",
    "l_f_t = [L_F_t(default_mean=np.zeros(3),default_cov=omega,default_alpha=alpha) for t in range(0, t_max)]\n",
    "l_q_t = [L_Mu(default_mean=mu, default_cov=start_var)]+[L_Q_t(default_mean=np.zeros(3),default_cov=omega,default_alpha=alpha) for t in range(1, t_max)]\n",
    "l_g_t = [L_G_t(default_mean=np.zeros(20),default_cov=sigma,default_beta=beta) for t in range(0, t_max)]\n",
    "\n",
    "\n",
    "# If we want to change the parameters\n",
    "assert np.all(np.linalg.eigvals(start_var) > 0)\n",
    "assert np.all(np.linalg.eigvals(omega) > 0)\n",
    "assert np.all(np.linalg.eigvals(sigma) > 0)\n",
    "\n",
    "l_states, l_observations = linear_gaussian_state_space(t_max=t_max, mu=mu, start_var=start_var, transition_var=omega, noise_var=sigma, transition_coeffs=alpha, observation_coeffs=beta)\n",
    "display((l_states.shape, l_observations.shape))\n",
    "\n",
    "l_particles, l_weights = seq_mc(observations=l_observations, n_particles=n_particles,\n",
    "       f_t=l_f_t, q_t=l_q_t, g_t=l_g_t)"
   ]
  },
  {
   "cell_type": "markdown",
   "execution_count": null,
   "metadata": {},
   "outputs": [],
   "source": [
    " ## Nonlinear State Space Model"
   ]
  },
  {
   "cell_type": "code",
   "execution_count": 10,
   "metadata": {},
   "outputs": [
    {
     "data": {
      "text/plain": "((50,), (50,))"
     },
     "metadata": {},
     "output_type": "display_data"
    },
    {
     "name": "stdout",
     "output_type": "stream",
     "text": "50 50 50\n100%|██████████| 49/49 [00:07<00:00,  6.92it/s]\n"
    }
   ],
   "source": [
    "%run non_linear_gaussian_state_model\n",
    "%run seq_mc\n",
    "# 4.2. Nonlinear State Space Model\n",
    "np.random.seed(420)\n",
    "t_max = 50\n",
    "mu = 0\n",
    "start_std = np.sqrt(5)\n",
    "omega = np.sqrt(10)\n",
    "sigma = np.sqrt(10)\n",
    "\n",
    "nl_states, nl_observations = nonlinear_gaussian_state_space(t_max=t_max, mu=mu, start_std=start_std, transition_std=omega, noise_std=sigma)\n",
    "\n",
    "display((nl_states.shape, nl_observations.shape))\n",
    "\n",
    "n_particles = 50\n",
    "\n",
    "nl_f_t = [NL_F_t(default_mean=0,default_std=omega) for t in range(0, t_max)]\n",
    "nl_q_t = [NL_Mu(default_mean=mu, default_std=start_std)]+[NL_Q_t(default_mean=0,default_std=omega) for t in range(1, t_max)]\n",
    "nl_g_t = [NL_G_t(default_mean=0,default_std=sigma) for t in range(0, t_max)]\n",
    "print(len(nl_f_t), len(nl_q_t), len(nl_g_t))\n",
    "\n",
    "nl_particles, nl_weights = seq_mc(observations=nl_observations, n_particles=n_particles,\n",
    "       f_t=nl_f_t, q_t=nl_q_t, g_t=nl_g_t)"
   ]
  },
  {
   "cell_type": "code",
   "execution_count": 0,
   "metadata": {},
   "outputs": [],
   "source": [
    "import matplotlib.pyplot as plt\n",
    "fig, (ax1, ax2) = plt.subplots(nrows=1, ncols=2, figsize=(9, 4), sharey=True)\n",
    "ax1.hist(nl_states, bins=100)\n",
    "ax2.hist(nl_observations, bins=100)\n",
    "plt.show()"
   ]
  },
  {
   "cell_type": "code",
   "execution_count": 0,
   "metadata": {},
   "outputs": [],
   "source": [
    "nl_states.shape, nl_observations.shape"
   ]
  },
  {
   "cell_type": "markdown",
   "execution_count": null,
   "metadata": {},
   "outputs": [],
   "source": [
    "# Sequential Monte Carlo\n",
    " "
   ]
  },
  {
   "cell_type": "code",
   "execution_count": 9,
   "metadata": {},
   "outputs": [],
   "source": []
  },
  {
   "cell_type": "code",
   "execution_count": 0,
   "metadata": {},
   "outputs": [],
   "source": [
    "# In our framework we consider given to be the past\n",
    "\n"
   ]
  },
  {
   "cell_type": "code",
   "execution_count": 0,
   "metadata": {},
   "outputs": [],
   "source": [
    "\n"
   ]
  },
  {
   "cell_type": "code",
   "execution_count": null,
   "metadata": {},
   "outputs": [],
   "source": []
  }
 ]
}