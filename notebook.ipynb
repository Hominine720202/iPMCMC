{
 "nbformat": 4,
 "nbformat_minor": 2,
 "metadata": {
  "language_info": {
   "name": "python",
   "codemirror_mode": {
    "name": "ipython",
    "version": 3
   },
   "version": "3.6.8"
  },
  "orig_nbformat": 2,
  "file_extension": ".py",
  "mimetype": "text/x-python",
  "name": "python",
  "npconvert_exporter": "python",
  "pygments_lexer": "ipython3",
  "version": 3
 },
 "cells": [
  {
   "cell_type": "code",
   "execution_count": 1,
   "metadata": {},
   "outputs": [],
   "source": [
    "import numpy as np\n",
    "import os"
   ]
  },
  {
   "cell_type": "markdown",
   "execution_count": null,
   "metadata": {},
   "outputs": [],
   "source": [
    "# Context\n",
    "\n",
    "Explain here HMM etc ...\n",
    "\n",
    "# Sequential Montecarlo\n",
    "\n",
    "## Linear Gaussian State Space Model"
   ]
  },
  {
   "cell_type": "code",
   "execution_count": 2,
   "metadata": {},
   "outputs": [],
   "source": [
    "# 4.1. Linear Gaussian State Space Model\n",
    "# Imports\n",
    "from ipmcmc.smc import smc\n",
    "from ipmcmc.linear_gaussian_state_model import *\n",
    "from scipy.spatial.transform import Rotation as R\n",
    "np.random.seed(420)\n",
    "\n",
    "# Parameters\n",
    "r = R.from_rotvec(np.array([7*np.pi/10, 3*np.pi/10, np.pi/20]))\n",
    "rotation_matrix = r.as_dcm()\n",
    "scaling_matrix = 0.99*np.eye(3)\n",
    "beta = np.random.dirichlet(np.ones(20)*0.2, 3).transpose()\n",
    "alpha = scaling_matrix@rotation_matrix\n",
    "t_max = 50\n",
    "mu = np.array([0, 1, 1])\n",
    "start_var = 0.1*np.eye(3)\n",
    "omega = np.eye(3)\n",
    "sigma = 0.1*np.eye(20)\n",
    "\n",
    "n_particles = 50\n",
    "\n",
    "# If we want to change the parameters\n",
    "assert np.all(np.linalg.eigvals(start_var) > 0)\n",
    "assert np.all(np.linalg.eigvals(omega) > 0)\n",
    "assert np.all(np.linalg.eigvals(sigma) > 0)\n",
    "\n",
    "linear_transition_model = [LinearTransition(default_mean=np.zeros(3),default_cov=omega,default_alpha=alpha) for t in range(0, t_max)]\n",
    "linear_proposals = [LinearMu(default_mean=mu, default_cov=start_var)]+[LinearProposal(default_mean=np.zeros(3),default_cov=omega,default_alpha=alpha) for t in range(1, t_max)]\n",
    "linear_observation_model = [LinearObservation(default_mean=np.zeros(20),default_cov=sigma,default_beta=beta) for t in range(0, t_max)]\n",
    "\n",
    "linear_states, linear_observations = linear_gaussian_state_space(t_max=t_max, mu=mu, start_var=start_var, transition_var=omega, noise_var=sigma, transition_coeffs=alpha, observation_coeffs=beta)\n",
    "\n",
    "linear_particles, linear_weights, linear_ancestors = smc(observations=linear_observations, n_particles=n_particles,\n",
    "       transition_model=linear_transition_model, proposals=linear_proposals, observation_model=linear_observation_model)"
   ]
  },
  {
   "cell_type": "markdown",
   "execution_count": null,
   "metadata": {},
   "outputs": [],
   "source": [
    "## Nonlinear State Space Model"
   ]
  },
  {
   "cell_type": "code",
   "execution_count": 0,
   "metadata": {},
   "outputs": [],
   "source": [
    "# 4.2. Nonlinear State Space Model\n",
    "# Imports\n",
    "from ipmcmc.smc import smc\n",
    "from ipmcmc.non_linear_gaussian_state_model import *\n",
    "import numpy as np\n",
    "\n",
    "# Parameters\n",
    "np.random.seed(420)\n",
    "t_max = 50\n",
    "mu = 0\n",
    "start_std = np.sqrt(5)\n",
    "omega = np.sqrt(10)\n",
    "sigma = np.sqrt(10)\n",
    "\n",
    "n_particles = 50\n",
    "\n",
    "nonlinear_transition_model = [NonLinearTransition(default_mean=0,default_std=omega) for t in range(0, t_max)]\n",
    "nonlinear_proposals = [NonLinearMu(default_mean=mu, default_std=start_std)]+[NonLinearProposal(default_mean=0,default_std=omega) for t in range(1, t_max)]\n",
    "nonlinear_observation_model = [NonLinearObservation(default_mean=0,default_std=sigma) for t in range(0, t_max)]\n",
    "\n",
    "nonlinear_states, nonlinear_observations = nonlinear_gaussian_state_space(t_max=t_max, mu=mu, start_std=start_std, transition_std=omega, noise_std=sigma)\n",
    "\n",
    "nonlinear_particles, nonlinear_weights, nonlinear_ancestors = smc(observations=nonlinear_observations, n_particles=n_particles,\n",
    "       transition_model=nonlinear_transition_model, proposals=nonlinear_proposals, observation_model=nonlinear_observation_model)"
   ]
  },
  {
   "cell_type": "code",
   "execution_count": 0,
   "metadata": {},
   "outputs": [],
   "source": [
    "import matplotlib.pyplot as plt\n",
    "fig, (ax1, ax2) = plt.subplots(nrows=1, ncols=2, figsize=(9, 4), sharey=True)\n",
    "ax1.hist(nonlinear_states, bins=100)\n",
    "ax2.hist(nonlinear_observations, bins=100)\n",
    "plt.show()"
   ]
  },
  {
   "cell_type": "markdown",
   "execution_count": null,
   "metadata": {},
   "outputs": [],
   "source": [
    "RESULT ANALYSIS"
   ]
  },
  {
   "cell_type": "code",
   "execution_count": 0,
   "metadata": {},
   "outputs": [],
   "source": [
    "import numpy as np\n",
    "import networkx as nx\n",
    "import matplotlib.pyplot as plt\n",
    "\n",
    "def plot_ancestors(ancestors: np.ndarray, img: str):\n",
    "    raise DeprecationWarning(\"TODO: Refactor according to the new shape (time, n_particles)\")\n",
    "    # TODO: Refactor according to the new shape (time, n_particles)\n",
    "    G = nx.Graph()\n",
    "\n",
    "    for p_i in range(ancestors.shape[0]):\n",
    "        G.add_node(\"p={};t={}\".format(p_i, 0))\n",
    "    \n",
    "    for t_i in range(ancestors.shape[1]):\n",
    "        for p_i, a_t_i in enumerate(ancestors[:,t_i]):\n",
    "            G.add_node(\"p={};t={}\".format(int(p_i), int(t_i+1)))\n",
    "            G.add_edge(\"p={};t={}\".format(int(a_t_i), int(t_i)) ,\"p={};t={}\".format(int(p_i), int(t_i+1)))\n",
    "    \n",
    "    coeff = 10000\n",
    "    fixed_positions = {node: (int(node.split(';')[0][2:])*coeff,int(node.split(';')[1][2:])*coeff)\n",
    "        for node in G.nodes\n",
    "    }\n",
    "\n",
    "    plt.figure(figsize=(120,120))\n",
    "    pos = nx.spring_layout(G,pos=fixed_positions, fixed=G.nodes)\n",
    "    nx.draw_networkx(G,pos)\n",
    "    plt.savefig(img)\n",
    "    plt.close()\n",
    "   \n",
    "    return G"
   ]
  }
 ]
}