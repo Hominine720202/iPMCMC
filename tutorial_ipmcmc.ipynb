{
 "cells": [
  {
   "cell_type": "code",
   "execution_count": 1,
   "metadata": {},
   "outputs": [],
   "source": [
    "import numpy as np\n",
    "from scipy.spatial.transform import Rotation as R\n",
    "from tqdm import tqdm\n",
    "from ipmcmc.generate_data import *\n",
    "from ipmcmc.linear_gaussian_state_model import *\n",
    "from ipmcmc.non_linear_gaussian_state_model import *\n",
    "from ipmcmc.smc import *\n",
    "from ipmcmc.csmc import *\n",
    "from ipmcmc.ipmcmc import *\n",
    "from ipmcmc.estimation import *    \n"
   ]
  },
  {
   "cell_type": "markdown",
   "metadata": {},
   "source": [
    "We implemented the same models as those in the paper. Each one of them is implemented and generates observations and states in the two next cells"
   ]
  },
  {
   "cell_type": "code",
   "execution_count": 2,
   "metadata": {},
   "outputs": [],
   "source": [
    "# 4.1. Linear Gaussian State Space Model\n",
    "np.random.seed(420)\n",
    "# Parameters\n",
    "t_max = 50\n",
    "n_particles = 100\n",
    "\n",
    "r = R.from_rotvec(np.array([7*np.pi/10, 3*np.pi/10, np.pi/20]))\n",
    "rotation_matrix = r.as_dcm()\n",
    "scaling_matrix = 0.99*np.eye(3)\n",
    "beta = np.random.dirichlet(np.ones(20)*0.2, 3).transpose()\n",
    "alpha = scaling_matrix@rotation_matrix\n",
    "t_max = 50\n",
    "mu = np.array([0, 1, 1])\n",
    "start_var = 0.1*np.eye(3)\n",
    "omega = np.eye(3)\n",
    "sigma = 0.1*np.eye(20)\n",
    "\n",
    "\n",
    "\n",
    "l_transition_model = [LinearMu(default_mean=mu, default_cov=start_var)]+[LinearTransition(\n",
    "    default_mean=np.zeros(3), default_cov=omega, default_alpha=alpha) for t in range(1, t_max)]\n",
    "l_proposals = [LinearMu(default_mean=mu, default_cov=start_var)]+[LinearProposal(\n",
    "    default_mean=np.zeros(3), default_cov=omega, default_alpha=alpha) for t in range(1, t_max)]\n",
    "l_observation_model = [LinearObservation(default_mean=np.zeros(\n",
    "    20), default_cov=sigma, default_beta=beta) for t in range(0, t_max)]\n",
    "\n",
    "# If we want to change the parameters\n",
    "assert np.all(np.linalg.eigvals(start_var) > 0)\n",
    "assert np.all(np.linalg.eigvals(omega) > 0)\n",
    "assert np.all(np.linalg.eigvals(sigma) > 0)\n",
    "\n",
    "l_states, l_observations = linear_gaussian_state_space(\n",
    "    t_max=t_max, mu=mu, start_var=start_var, transition_var=omega, noise_var=sigma,\n",
    "    transition_coeffs=alpha, observation_coeffs=beta)"
   ]
  },
  {
   "cell_type": "code",
   "execution_count": 3,
   "metadata": {},
   "outputs": [],
   "source": [
    "# 4.2. Nonlinear State Space Model\n",
    "np.random.seed(420)\n",
    "nl_mu = 0\n",
    "start_std = np.sqrt(5)\n",
    "omega = np.sqrt(10)\n",
    "sigma = np.sqrt(10)\n",
    "\n",
    "nl_transition_model = [NonLinearMu(default_mean=nl_mu, default_std=start_std)]+[NonLinearTransition(\n",
    "    default_mean=0, default_std=omega) for t in range(1, t_max)]\n",
    "nl_proposals = [NonLinearMu(default_mean=nl_mu, default_std=start_std)]+[\n",
    "    NonLinearProposal(default_mean=0, default_std=omega) for t in range(1, t_max)]\n",
    "nl_observation_model = [NonLinearObservation(\n",
    "    default_mean=0, default_std=sigma) for t in range(0, t_max)]\n",
    "\n",
    "nl_states, nl_observations = nonlinear_gaussian_state_space(\n",
    "    t_max=t_max, mu=nl_mu, start_std=start_std, transition_std=omega, noise_std=sigma)"
   ]
  },
  {
   "cell_type": "code",
   "execution_count": 4,
   "metadata": {},
   "outputs": [
    {
     "name": "stderr",
     "output_type": "stream",
     "text": [
      "\r",
      "  0%|          | 0/16 [00:00<?, ?it/s]"
     ]
    },
    {
     "name": "stdout",
     "output_type": "stream",
     "text": [
      "init_conditional_traj\n"
     ]
    },
    {
     "name": "stderr",
     "output_type": "stream",
     "text": [
      "100%|██████████| 16/16 [00:46<00:00,  2.88s/it]\n",
      "  0%|          | 0/5 [00:00<?, ?it/s]"
     ]
    },
    {
     "name": "stdout",
     "output_type": "stream",
     "text": [
      "running ipmcmc\n"
     ]
    },
    {
     "name": "stderr",
     "output_type": "stream",
     "text": [
      "100%|██████████| 5/5 [08:52<00:00, 106.41s/it]\n"
     ]
    }
   ],
   "source": [
    "# ipmcmc run: works with both linear and non-linear models.\n",
    "# It is pretty long to run, longer for the linear model which has 3-dimensional states.\n",
    "# For the linear model, each MCMC step take approximately 90 secs, and 80 secs for \n",
    "# the non-linear, on our computers.\n",
    "\n",
    "n_nodes = 32\n",
    "n_conditional_nodes = 16\n",
    "n_steps = 5\n",
    "\n",
    "linear= True\n",
    "\n",
    "if linear:\n",
    "    print('init_conditional_traj')\n",
    "    \n",
    "    init_conditional_traj = np.zeros((n_conditional_nodes, t_max, len(mu)))\n",
    "    for i in tqdm(range(n_conditional_nodes)):\n",
    "        particles, _, _ = smc(l_observations, n_particles,\n",
    "                              l_transition_model, l_proposals, l_observation_model)\n",
    "        init_conditional_traj[i] = particles.mean(axis=1)\n",
    "\n",
    "    print('running ipmcmc')\n",
    "    particles, conditional_traj, weights, conditional_indices, zetas = ipmcmc(\n",
    "        n_steps, n_nodes, n_conditional_nodes, l_observations, n_particles, init_conditional_traj,\n",
    "        l_proposals, l_transition_model, l_observation_model)\n",
    "\n",
    "else:\n",
    "    print('init_conditional_traj')\n",
    "    \n",
    "    init_conditional_traj = np.zeros((n_conditional_nodes, t_max, 1))\n",
    "    for i in tqdm(range(n_conditional_nodes)):\n",
    "        particles, _, _ = smc(nl_observations, n_particles,\n",
    "                              nl_transition_model, nl_proposals, nl_observation_model)\n",
    "        init_conditional_traj[i] = particles.mean(axis=1)\n",
    "\n",
    "    print('running ipmcmc')\n",
    "    particles, conditional_traj, weights, conditional_indices, zetas = ipmcmc(\n",
    "        n_steps, n_nodes, n_conditional_nodes, nl_observations, n_particles, init_conditional_traj,\n",
    "        nl_proposals, nl_transition_model, nl_observation_model)\n",
    "        "
   ]
  },
  {
   "cell_type": "code",
   "execution_count": null,
   "metadata": {},
   "outputs": [],
   "source": [
    "# Mean estimation for the linear model, using kalman filter and rts smoother as ground truth\n",
    "# Make sure that the particles used are the one generated during a run of the ipmcmc sampler\n",
    "# for the linear model\n",
    "\n",
    "true_means, true_covs = compute_ground_truth(l_observations, mu, start_var, alpha, omega, beta, sigma)\n",
    "\n",
    "rao_black_traj = rao_blackwellisation(particles, weights, zetas, n_conditional_nodes)\n",
    "\n",
    "errors_function_of_mcmc_step = []\n",
    "errors_function_of_state_step = []\n",
    "for r in range(1, (n_steps+1)):\n",
    "    errors_function_of_mcmc_step.append(compute_error(rao_black_traj, true_means, r))\n",
    "\n",
    "for t in range(1, (t_max+1)):\n",
    "    errors_function_of_state_step.append(compute_error(rao_black_traj, true_means, state_step=t))"
   ]
  },
  {
   "cell_type": "code",
   "execution_count": null,
   "metadata": {},
   "outputs": [],
   "source": []
  }
 ],
 "metadata": {
  "kernelspec": {
   "display_name": "Python 3",
   "language": "python",
   "name": "python3"
  },
  "language_info": {
   "codemirror_mode": {
    "name": "ipython",
    "version": 3
   },
   "file_extension": ".py",
   "mimetype": "text/x-python",
   "name": "python",
   "nbconvert_exporter": "python",
   "pygments_lexer": "ipython3",
   "version": "3.6.6"
  }
 },
 "nbformat": 4,
 "nbformat_minor": 2
}
