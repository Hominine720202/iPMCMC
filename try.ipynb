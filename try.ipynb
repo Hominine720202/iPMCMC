{
 "cells": [
  {
   "cell_type": "code",
   "execution_count": 1,
   "metadata": {},
   "outputs": [],
   "source": [
    "import numpy as np\n",
    "\n",
    "def init_proposal(sampler, params):\n",
    "    return lambda n: sampler(**params, size=n)\n",
    "\n",
    "def CSMC(obs, N, conditional_traj, proposals_samplers, proposals_dens, transition_dens, obs_dens, init_dens):\n",
    "    particles = np.array([[]])\n",
    "    weights = [[]]\n",
    "    particles[0] = np.append(proposals_samplers[0](N-1), conditional_traj[0][np.newaxis,:])\n",
    "    for i in range(N):\n",
    "        weights[0].append(obs_dens[0](obs[0], particles[0, i]) * init_dens(particles[0, i]) / proposals_dens[0](particles[0, i]))\n",
    "    T = len(obs)\n",
    "    ancestors = np.array([[]])\n",
    "    for t in range(1, T):\n",
    "        ancestors[t-1] = np.append(np.random.choice(range(1, N+1), size=N-1, p=weights[t-1]), N)\n",
    "        \n",
    "        new_particles = []\n",
    "        for i in range(N-1):\n",
    "            new_particles.append(proposals_samplers[0](1, particles[0:t-1, ancestors[t-1,i]]))\n",
    "        new_particles.append(conditional_traj[t])\n",
    "        particles[t] = np.array(new_particles)\n",
    "        weights.append([])\n",
    "        for i in range(N):\n",
    "            particles[0:t, i] = particles[0:t, ancestors[t-1,i]]\n",
    "            weights[t].append(obs_dens[t](obs[t], particles[0:t+1, i]) * transition_dens[t-1](particles[0:t, ancestors[t-1,i]]) / proposals_dens[t](particles[0:t, ancestors[t-1,i]]))\n",
    "        \n"
   ]
  },
  {
   "cell_type": "code",
   "execution_count": 2,
   "metadata": {},
   "outputs": [],
   "source": [
    "import os\n",
    "os.chdir('/Users/corentin/Documents/M2/BIPODS/Project/iPMCMC/ipmcmc')"
   ]
  },
  {
   "cell_type": "code",
   "execution_count": 3,
   "metadata": {},
   "outputs": [],
   "source": [
    "from scipy.spatial.transform import Rotation as R\n",
    "%run generate_data.py\n",
    "%run utils.py\n",
    "\n",
    "np.random.seed(420)\n",
    "\n",
    "# Parameters\n",
    "r = R.from_rotvec(np.array([7*np.pi/10, 3*np.pi/10, np.pi/20]))\n",
    "rotation_matrix = r.as_dcm()\n",
    "scaling_matrix = 0.99*np.eye(3)\n",
    "beta = np.random.dirichlet(np.ones(20)*0.2, 3).transpose()\n",
    "alpha = scaling_matrix@rotation_matrix\n",
    "t_max = 50\n",
    "mu = np.array([0, 1, 1])\n",
    "start_var = 0.1*np.eye(3)\n",
    "omega = np.eye(3)\n",
    "sigma = 0.1*np.eye(20)\n",
    "\n",
    "# If we want to change the parameters\n",
    "assert np.all(np.linalg.eigvals(start_var) > 0)\n",
    "assert np.all(np.linalg.eigvals(omega) > 0)\n",
    "assert np.all(np.linalg.eigvals(sigma) > 0)\n",
    "\n",
    "l_states, l_observations = linear_gaussian_state_space(t_max=t_max, mu=mu, start_var=start_var, transition_var=omega, noise_var=sigma, transition_coeffs=alpha, observation_coeffs=beta)"
   ]
  },
  {
   "cell_type": "code",
   "execution_count": 60,
   "metadata": {},
   "outputs": [
    {
     "data": {
      "text/plain": [
       "(50, 20)"
      ]
     },
     "execution_count": 60,
     "metadata": {},
     "output_type": "execute_result"
    }
   ],
   "source": [
    "l_observations.shape"
   ]
  },
  {
   "cell_type": "code",
   "execution_count": 24,
   "metadata": {},
   "outputs": [],
   "source": [
    "transition_dens = np.array([gaussian_density(mu, start_var)] + [gaussian_density_var(omega, alpha)] * (t_max-1))\n",
    "proposals_dens = np.copy(transition_dens)\n",
    "obs_dens = np.array([gaussian_density_var(sigma, beta)] * t_max)\n",
    "\n",
    "proposals_samplers = np.array([lambda n: np.random.multivariate_normal(mu, start_var, size=n)] + [lambda mu: np.random.multivariate_normal(mu[-1], omega)] * (t_max - 1))\n",
    "\n",
    "conditional_traj = l_states\n",
    "N = 32"
   ]
  },
  {
   "cell_type": "code",
   "execution_count": 51,
   "metadata": {},
   "outputs": [
    {
     "data": {
      "text/plain": [
       "<function gaussian_density.<locals>.dens_func(x)>"
      ]
     },
     "execution_count": 51,
     "metadata": {},
     "output_type": "execute_result"
    }
   ],
   "source": [
    "transition_dens[0]\n"
   ]
  },
  {
   "cell_type": "code",
   "execution_count": 28,
   "metadata": {},
   "outputs": [],
   "source": [
    "%run csmc.py\n",
    "\n",
    "particles, weights = CSMC(l_observations, N, conditional_traj, proposals_samplers, proposals_dens, transition_dens, obs_dens)"
   ]
  },
  {
   "cell_type": "code",
   "execution_count": 29,
   "metadata": {},
   "outputs": [
    {
     "data": {
      "text/plain": [
       "array([[[-0.19030198,  0.63858924,  1.17375978],\n",
       "        [-0.19030198,  0.63858924,  1.17375978],\n",
       "        [-0.19030198,  0.63858924,  1.17375978],\n",
       "        ...,\n",
       "        [-0.19030198,  0.63858924,  1.17375978],\n",
       "        [-0.19030198,  0.63858924,  1.17375978],\n",
       "        [-0.19030198,  0.63858924,  1.17375978]],\n",
       "\n",
       "       [[ 1.60046878, -1.74668853, -0.09505616],\n",
       "        [ 1.60046878, -1.74668853, -0.09505616],\n",
       "        [ 1.60046878, -1.74668853, -0.09505616],\n",
       "        ...,\n",
       "        [ 1.60046878, -1.74668853, -0.09505616],\n",
       "        [ 1.60046878, -1.74668853, -0.09505616],\n",
       "        [ 1.60046878, -1.74668853, -0.09505616]],\n",
       "\n",
       "       [[-0.16923772,  2.73990392, -0.87534585],\n",
       "        [-0.16923772,  2.73990392, -0.87534585],\n",
       "        [-0.16923772,  2.73990392, -0.87534585],\n",
       "        ...,\n",
       "        [-0.16923772,  2.73990392, -0.87534585],\n",
       "        [-0.16923772,  2.73990392, -0.87534585],\n",
       "        [-0.16923772,  2.73990392, -0.87534585]],\n",
       "\n",
       "       ...,\n",
       "\n",
       "       [[ 7.45184846,  3.76798762, -1.89708207],\n",
       "        [ 7.45184846,  3.76798762, -1.89708207],\n",
       "        [ 7.45184846,  3.76798762, -1.89708207],\n",
       "        ...,\n",
       "        [ 7.45184846,  3.76798762, -1.89708207],\n",
       "        [ 7.45184846,  3.76798762, -1.89708207],\n",
       "        [ 7.45184846,  3.76798762, -1.89708207]],\n",
       "\n",
       "       [[ 6.15191006,  3.42347984,  3.37311652],\n",
       "        [ 6.15191006,  3.42347984,  3.37311652],\n",
       "        [ 6.15191006,  3.42347984,  3.37311652],\n",
       "        ...,\n",
       "        [ 6.15191006,  3.42347984,  3.37311652],\n",
       "        [ 6.15191006,  3.42347984,  3.37311652],\n",
       "        [ 6.15191006,  3.42347984,  3.37311652]],\n",
       "\n",
       "       [[ 5.71956793,  1.30949736,  4.00315764],\n",
       "        [ 5.39059095,  4.76539515,  4.51229362],\n",
       "        [ 6.90459561,  4.5236603 ,  2.27444625],\n",
       "        ...,\n",
       "        [ 6.17428084,  3.60637546,  3.60463848],\n",
       "        [ 7.16250309,  3.44085065,  4.61957812],\n",
       "        [ 9.14384374,  1.47743165, -2.85973521]]])"
      ]
     },
     "execution_count": 29,
     "metadata": {},
     "output_type": "execute_result"
    }
   ],
   "source": [
    "particles"
   ]
  },
  {
   "cell_type": "code",
   "execution_count": 62,
   "metadata": {},
   "outputs": [
    {
     "data": {
      "text/plain": [
       "(50, 20)"
      ]
     },
     "execution_count": 62,
     "metadata": {},
     "output_type": "execute_result"
    }
   ],
   "source": [
    "l_observations.shape"
   ]
  },
  {
   "cell_type": "code",
   "execution_count": 67,
   "metadata": {},
   "outputs": [
    {
     "data": {
      "text/plain": [
       "True"
      ]
     },
     "execution_count": 67,
     "metadata": {},
     "output_type": "execute_result"
    }
   ],
   "source": []
  },
  {
   "cell_type": "code",
   "execution_count": null,
   "metadata": {},
   "outputs": [],
   "source": []
  }
 ],
 "metadata": {
  "kernelspec": {
   "display_name": "Python 3",
   "language": "python",
   "name": "python3"
  },
  "language_info": {
   "codemirror_mode": {
    "name": "ipython",
    "version": 3
   },
   "file_extension": ".py",
   "mimetype": "text/x-python",
   "name": "python",
   "nbconvert_exporter": "python",
   "pygments_lexer": "ipython3",
   "version": "3.6.6"
  }
 },
 "nbformat": 4,
 "nbformat_minor": 2
}
