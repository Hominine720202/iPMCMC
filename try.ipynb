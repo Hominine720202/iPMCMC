{
 "cells": [
  {
   "cell_type": "code",
   "execution_count": 1,
   "metadata": {},
   "outputs": [],
   "source": [
    "import os\n",
    "os.chdir('/Users/corentin/Documents/M2/BIPODS/Project/iPMCMC/ipmcmc')\n",
    "%run generate_data.py\n",
    "%run linear_gaussian_state_model\n",
    "%run smc.py\n",
    "%run csmc.py\n",
    "%run ipmcmc.py"
   ]
  },
  {
   "cell_type": "code",
   "execution_count": 2,
   "metadata": {},
   "outputs": [
    {
     "data": {
      "text/plain": [
       "((50, 3), (50, 20))"
      ]
     },
     "metadata": {},
     "output_type": "display_data"
    }
   ],
   "source": [
    "\n",
    "# 4.1. Linear Gaussian State Space Model\n",
    "from scipy.spatial.transform import Rotation as R\n",
    "np.random.seed(420)\n",
    "\n",
    "# Parameters\n",
    "r = R.from_rotvec(np.array([7*np.pi/10, 3*np.pi/10, np.pi/20]))\n",
    "rotation_matrix = r.as_dcm()\n",
    "scaling_matrix = 0.99*np.eye(3)\n",
    "beta = np.random.dirichlet(np.ones(20)*0.2, 3).transpose()\n",
    "alpha = scaling_matrix@rotation_matrix\n",
    "t_max = 50\n",
    "mu = np.array([0, 1, 1])\n",
    "start_var = 0.1*np.eye(3)\n",
    "omega = np.eye(3)\n",
    "sigma = 0.1*np.eye(20)\n",
    "\n",
    "\n",
    "n_particles = 100\n",
    "\n",
    "linear_transition_model = [LinearMu(default_mean=mu, default_cov=start_var)]+[LinearTransition(default_mean=np.zeros(3),default_cov=omega,default_alpha=alpha) for t in range(1, t_max)]\n",
    "linear_proposals = [LinearMu(default_mean=mu, default_cov=start_var)]+[LinearProposal(default_mean=np.zeros(3),default_cov=omega,default_alpha=alpha) for t in range(1, t_max)]\n",
    "linear_observation_model = [LinearObservation(default_mean=np.zeros(20),default_cov=sigma,default_beta=beta) for t in range(0, t_max)]\n",
    "\n",
    "\n",
    "# If we want to change the parameters\n",
    "assert np.all(np.linalg.eigvals(start_var) > 0)\n",
    "assert np.all(np.linalg.eigvals(omega) > 0)\n",
    "assert np.all(np.linalg.eigvals(sigma) > 0)\n",
    "\n",
    "l_states, l_observations = linear_gaussian_state_space(t_max=t_max, mu=mu, start_var=start_var, transition_var=omega, noise_var=sigma, transition_coeffs=alpha, observation_coeffs=beta)\n",
    "display((l_states.shape, l_observations.shape))"
   ]
  },
  {
   "cell_type": "code",
   "execution_count": 8,
   "metadata": {},
   "outputs": [],
   "source": [
    "n_nodes = 32\n",
    "n_conditional_nodes = 16\n",
    "n_steps = 100\n",
    "init_conditional_traj = np.zeros((n_conditional_nodes, t_max, len(mu)))\n",
    "\n",
    "for i in range(n_conditional_nodes):\n",
    "    particles, _, _ = smc(l_observations, n_particles,\n",
    "       linear_transition_model, linear_proposals, linear_observation_model)\n",
    "    init_conditional_traj[i] = particles.mean(axis=1)"
   ]
  },
  {
   "cell_type": "code",
   "execution_count": 9,
   "metadata": {},
   "outputs": [],
   "source": [
    "particles, conditional_traj, weights, conditional_indices, zetas = ipmcmc(\n",
    "    n_steps, n_nodes, n_conditional_nodes, l_observations, n_particles, init_conditional_traj,\n",
    "    linear_proposals, linear_transition_model, linear_observation_model)"
   ]
  },
  {
   "cell_type": "code",
   "execution_count": 21,
   "metadata": {},
   "outputs": [
    {
     "data": {
      "text/plain": [
       "(5, 16, 32)"
      ]
     },
     "execution_count": 21,
     "metadata": {},
     "output_type": "execute_result"
    }
   ],
   "source": [
    "zetas.shape"
   ]
  },
  {
   "cell_type": "code",
   "execution_count": 10,
   "metadata": {},
   "outputs": [],
   "source": [
    "from filterpy.kalman import KalmanFilter\n",
    "\n",
    "fk = KalmanFilter(dim_x=3, dim_z=20)\n",
    "\n",
    "fk.x = l_states[0]\n",
    "fk.P = start_var\n",
    "\n",
    "fk.F = alpha\n",
    "fk.Q = omega\n",
    "\n",
    "fk.H = beta\n",
    "fk.R = sigma\n",
    "\n",
    "mu_kal, cov_kal, _, _ = fk.batch_filter(l_observations)\n",
    "means, covs, gain, predicted_covs = fk.rts_smoother(mu_kal, cov_kal)"
   ]
  },
  {
   "cell_type": "code",
   "execution_count": null,
   "metadata": {},
   "outputs": [],
   "source": []
  },
  {
   "cell_type": "code",
   "execution_count": 11,
   "metadata": {},
   "outputs": [],
   "source": [
    "w_barre = weights.mean(axis=2)\n",
    "\n",
    "rao_black_traj = np.zeros((n_steps, n_conditional_nodes, t_max, len(mu)))\n",
    "for r in range(n_steps):\n",
    "    for p in range(n_conditional_nodes):\n",
    "        for m in range(n_nodes):\n",
    "            weighted_sum_parts = np.zeros((t_max, len(mu)))\n",
    "            for n in range(n_particles):\n",
    "                weighted_sum_parts += w_barre[r, m, n] * particles[r, m, :, n]\n",
    "            weighted_zetas = zetas[r, p, m] * weighted_sum_parts\n",
    "            rao_black_traj[r, p] += weighted_zetas\n",
    "\n",
    "estimated_means_from_ipmcmc = np.mean(rao_black_traj, axis=(0,1))"
   ]
  },
  {
   "cell_type": "code",
   "execution_count": 12,
   "metadata": {},
   "outputs": [
    {
     "data": {
      "text/plain": [
       "array([[-0.02221433,  0.59108266,  0.61764722],\n",
       "       [ 0.59126659, -0.72495531, -0.47477185],\n",
       "       [-0.12476874,  1.76530836,  0.12765403],\n",
       "       [ 1.01683642, -0.24199294,  1.12270838],\n",
       "       [ 0.71809757, -0.26632624, -1.87658915],\n",
       "       [-0.86638581,  1.46217467,  1.29623443],\n",
       "       [ 0.17859368, -1.74377801,  0.08835216],\n",
       "       [ 0.22957764,  1.2719777 , -0.79675495],\n",
       "       [ 1.33632513,  0.34191832,  1.59560516],\n",
       "       [ 1.31958083,  0.29350167, -1.87688057],\n",
       "       [-0.09809598,  2.45434947,  1.32258454],\n",
       "       [ 2.22714532, -1.31569474,  0.7312841 ],\n",
       "       [ 0.212001  ,  1.28101879, -1.9862668 ],\n",
       "       [-0.65478273,  1.02616392,  2.78972669],\n",
       "       [ 0.76121846, -2.91820959, -0.64082836],\n",
       "       [-0.52347782,  1.75705073, -1.84382623],\n",
       "       [-0.19295809, -0.18465212,  2.94717005],\n",
       "       [ 0.80144457, -1.88071471, -2.02909623],\n",
       "       [-0.60769888,  2.2670097 ,  0.5667877 ],\n",
       "       [ 0.92431652, -0.84314879,  1.72801809],\n",
       "       [ 1.40579111, -0.36372422, -1.86891764],\n",
       "       [ 0.31395906,  2.90753869,  1.18998968],\n",
       "       [ 2.25408734, -2.10824304,  1.13747059],\n",
       "       [ 1.56922084,  1.16386109, -2.58813086],\n",
       "       [ 0.45581114,  2.33741642,  2.17514112],\n",
       "       [ 2.58933359, -1.09391633,  0.30700958],\n",
       "       [ 1.80218684,  1.4328376 , -1.118399  ],\n",
       "       [ 2.13902861,  2.22430548,  1.19461057],\n",
       "       [ 3.60446377, -0.35589173,  1.03519831],\n",
       "       [ 3.00875661,  2.07434954, -2.26643448],\n",
       "       [ 2.73363503,  1.89480895,  2.60027834],\n",
       "       [ 3.25060117, -0.68284298, -1.01594783],\n",
       "       [ 2.34938171,  2.70556888, -0.12235499],\n",
       "       [ 3.78302241,  0.76065237,  1.55966285],\n",
       "       [ 4.12468088,  1.80885652, -1.15341009],\n",
       "       [ 3.65940735,  1.71747938,  1.21748551],\n",
       "       [ 4.50258325,  0.60689404, -0.56379325],\n",
       "       [ 4.42685437,  3.4288018 ,  0.01689012],\n",
       "       [ 6.03398239,  1.36773672,  1.63073356],\n",
       "       [ 5.59853089,  3.19610663, -1.44023798],\n",
       "       [ 5.3151756 ,  3.18240824,  2.7328704 ],\n",
       "       [ 6.54097858, -0.17901671, -0.73031819],\n",
       "       [ 4.76181487,  4.25738358, -0.28180776],\n",
       "       [ 5.31168904,  1.37546427,  1.77186535],\n",
       "       [ 5.43617919,  2.09597306, -0.87514253],\n",
       "       [ 5.53927864,  2.875414  ,  1.12751218],\n",
       "       [ 5.61389379,  1.35018081,  0.33404704],\n",
       "       [ 4.56995887,  2.54316974, -0.63783156],\n",
       "       [ 3.67748656,  2.17837304,  1.82454011],\n",
       "       [ 4.5709168 ,  0.39296735, -0.47645067]])"
      ]
     },
     "execution_count": 12,
     "metadata": {},
     "output_type": "execute_result"
    }
   ],
   "source": [
    "estimated_means_from_ipmcmc"
   ]
  },
  {
   "cell_type": "code",
   "execution_count": 13,
   "metadata": {},
   "outputs": [
    {
     "data": {
      "text/plain": [
       "array([[ 0.14858004,  0.57998754,  0.64302605],\n",
       "       [ 0.92683102, -1.08946054, -0.76577551],\n",
       "       [-0.15540975,  2.83209307,  0.18791207],\n",
       "       [ 1.61174015, -0.39488628,  1.85869719],\n",
       "       [ 1.10511093, -0.45705992, -3.10472598],\n",
       "       [-1.39897983,  2.34652653,  2.09977192],\n",
       "       [ 0.41590628, -2.76164292,  0.11561232],\n",
       "       [ 0.77943559,  2.15790011, -1.16347841],\n",
       "       [ 2.28642219,  0.52132178,  2.59081001],\n",
       "       [ 2.14701786,  0.48756151, -3.14480296],\n",
       "       [-0.16700461,  3.98072199,  2.13616737],\n",
       "       [ 3.51969775, -2.16161285,  1.18469176],\n",
       "       [ 0.21045678,  2.00059955, -3.35337127],\n",
       "       [-1.26724023,  1.72627874,  4.56679496],\n",
       "       [ 1.20696743, -4.714323  , -0.93921916],\n",
       "       [-0.774977  ,  2.77686533, -3.04527654],\n",
       "       [-0.3242391 , -0.26626125,  4.78328347],\n",
       "       [ 1.31810637, -3.0217746 , -3.22845561],\n",
       "       [-0.89263973,  3.61727654,  0.76351556],\n",
       "       [ 1.45276874, -1.15388922,  2.96318993],\n",
       "       [ 2.36513533, -0.64531128, -3.03643022],\n",
       "       [ 0.4728438 ,  4.72908963,  1.92588617],\n",
       "       [ 3.6371429 , -3.36994905,  1.86443273],\n",
       "       [ 2.60396234,  1.77993834, -4.16974831],\n",
       "       [ 0.78087166,  3.79006642,  3.38760282],\n",
       "       [ 4.17214279, -1.60412797,  0.63446205],\n",
       "       [ 3.09598175,  2.2118653 , -1.81879676],\n",
       "       [ 3.6003556 ,  3.8436221 ,  1.75787845],\n",
       "       [ 5.88600673, -0.59416884,  1.8166267 ],\n",
       "       [ 4.85893873,  3.33800672, -3.68502028],\n",
       "       [ 4.3814515 ,  3.04334592,  4.1816596 ],\n",
       "       [ 5.26785054, -1.06533185, -1.61694708],\n",
       "       [ 3.91414668,  4.32380189, -0.20882092],\n",
       "       [ 6.16582615,  1.26311922,  2.4718809 ],\n",
       "       [ 6.62365044,  2.95964356, -1.797761  ],\n",
       "       [ 5.94806118,  2.77189201,  1.97493559],\n",
       "       [ 7.37730983,  1.00418832, -0.9271663 ],\n",
       "       [ 7.43911757,  5.63490695,  0.03034504],\n",
       "       [ 9.88618462,  2.20198255,  2.59363494],\n",
       "       [ 9.0269211 ,  5.19043048, -2.37282552],\n",
       "       [ 8.5196735 ,  5.13503448,  4.45184962],\n",
       "       [10.50014578, -0.25338859, -1.16368235],\n",
       "       [ 7.68401328,  6.8078723 , -0.41594361],\n",
       "       [ 8.54639737,  2.23835058,  2.79780818],\n",
       "       [ 8.75323424,  3.37777774, -1.38149959],\n",
       "       [ 8.90316314,  4.62050014,  1.8035473 ],\n",
       "       [ 9.02930596,  2.14919267,  0.56316157],\n",
       "       [ 7.32165981,  4.1788823 , -1.08021672],\n",
       "       [ 6.30933859,  3.30041208,  3.30610533],\n",
       "       [ 8.7673386 ,  1.58973032, -2.96397642]])"
      ]
     },
     "execution_count": 13,
     "metadata": {},
     "output_type": "execute_result"
    }
   ],
   "source": [
    "means"
   ]
  },
  {
   "cell_type": "code",
   "execution_count": null,
   "metadata": {},
   "outputs": [],
   "source": []
  }
 ],
 "metadata": {
  "kernelspec": {
   "display_name": "Python 3",
   "language": "python",
   "name": "python3"
  },
  "language_info": {
   "codemirror_mode": {
    "name": "ipython",
    "version": 3
   },
   "file_extension": ".py",
   "mimetype": "text/x-python",
   "name": "python",
   "nbconvert_exporter": "python",
   "pygments_lexer": "ipython3",
   "version": "3.6.6"
  }
 },
 "nbformat": 4,
 "nbformat_minor": 2
}
