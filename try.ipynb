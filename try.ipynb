{
 "cells": [
  {
   "cell_type": "code",
   "execution_count": 1,
   "metadata": {},
   "outputs": [],
   "source": [
    "import os\n",
    "os.chdir('/Users/corentin/Documents/M2/BIPODS/Project/iPMCMC/ipmcmc')\n",
    "%run generate_data.py\n",
    "%run linear_gaussian_state_model\n",
    "%run smc.py\n",
    "%run csmc.py\n",
    "%run ipmcmc.py"
   ]
  },
  {
   "cell_type": "code",
   "execution_count": 2,
   "metadata": {},
   "outputs": [
    {
     "data": {
      "text/plain": [
       "((50, 3), (50, 20))"
      ]
     },
     "metadata": {},
     "output_type": "display_data"
    }
   ],
   "source": [
    "\n",
    "# 4.1. Linear Gaussian State Space Model\n",
    "from scipy.spatial.transform import Rotation as R\n",
    "np.random.seed(420)\n",
    "\n",
    "# Parameters\n",
    "r = R.from_rotvec(np.array([7*np.pi/10, 3*np.pi/10, np.pi/20]))\n",
    "rotation_matrix = r.as_dcm()\n",
    "scaling_matrix = 0.99*np.eye(3)\n",
    "beta = np.random.dirichlet(np.ones(20)*0.2, 3).transpose()\n",
    "alpha = scaling_matrix@rotation_matrix\n",
    "t_max = 50\n",
    "mu = np.array([0, 1, 1])\n",
    "start_var = 0.1*np.eye(3)\n",
    "omega = np.eye(3)\n",
    "sigma = 0.1*np.eye(20)\n",
    "\n",
    "\n",
    "n_particles = 100\n",
    "\n",
    "linear_transition_model = [LinearMu(default_mean=mu, default_cov=start_var)]+[LinearTransition(default_mean=np.zeros(3),default_cov=omega,default_alpha=alpha) for t in range(1, t_max)]\n",
    "linear_proposals = [LinearMu(default_mean=mu, default_cov=start_var)]+[LinearProposal(default_mean=np.zeros(3),default_cov=omega,default_alpha=alpha) for t in range(1, t_max)]\n",
    "linear_observation_model = [LinearObservation(default_mean=np.zeros(20),default_cov=sigma,default_beta=beta) for t in range(0, t_max)]\n",
    "\n",
    "\n",
    "# If we want to change the parameters\n",
    "assert np.all(np.linalg.eigvals(start_var) > 0)\n",
    "assert np.all(np.linalg.eigvals(omega) > 0)\n",
    "assert np.all(np.linalg.eigvals(sigma) > 0)\n",
    "\n",
    "l_states, l_observations = linear_gaussian_state_space(t_max=t_max, mu=mu, start_var=start_var, transition_var=omega, noise_var=sigma, transition_coeffs=alpha, observation_coeffs=beta)\n",
    "display((l_states.shape, l_observations.shape))"
   ]
  },
  {
   "cell_type": "code",
   "execution_count": 8,
   "metadata": {},
   "outputs": [],
   "source": [
    "n_nodes = 32\n",
    "n_conditional_nodes = 16\n",
    "n_steps = 100\n",
    "init_conditional_traj = np.zeros((n_conditional_nodes, t_max, len(mu)))\n",
    "\n",
    "for i in range(n_conditional_nodes):\n",
    "    particles, _, _ = smc(l_observations, n_particles,\n",
    "       linear_transition_model, linear_proposals, linear_observation_model)\n",
    "    init_conditional_traj[i] = particles.mean(axis=1)"
   ]
  },
  {
   "cell_type": "code",
   "execution_count": 9,
   "metadata": {},
   "outputs": [],
   "source": [
    "particles, conditional_traj, weights, conditional_indices, zetas = ipmcmc(\n",
    "    n_steps, n_nodes, n_conditional_nodes, l_observations, n_particles, init_conditional_traj,\n",
    "    linear_proposals, linear_transition_model, linear_observation_model)"
   ]
  },
  {
   "cell_type": "code",
   "execution_count": 21,
   "metadata": {},
   "outputs": [
    {
     "data": {
      "text/plain": [
       "(5, 16, 32)"
      ]
     },
     "execution_count": 21,
     "metadata": {},
     "output_type": "execute_result"
    }
   ],
   "source": [
    "zetas.shape"
   ]
  },
  {
   "cell_type": "code",
   "execution_count": 49,
   "metadata": {},
   "outputs": [],
   "source": [
    "from filterpy.kalman import KalmanFilter\n",
    "\n",
    "fk = KalmanFilter(dim_x=3, dim_z=20)\n",
    "\n",
    "fk.x = mu\n",
    "fk.P = start_var\n",
    "\n",
    "fk.F = alpha\n",
    "fk.Q = omega\n",
    "\n",
    "fk.H = beta\n",
    "fk.R = sigma\n",
    "\n",
    "mu_kal, cov_kal, _, _ = fk.batch_filter(l_observations)\n",
    "means, covs, gain, predicted_covs = fk.rts_smoother(mu_kal, cov_kal)"
   ]
  },
  {
   "cell_type": "code",
   "execution_count": null,
   "metadata": {},
   "outputs": [],
   "source": []
  },
  {
   "cell_type": "code",
   "execution_count": 15,
   "metadata": {},
   "outputs": [],
   "source": [
    "w_barre = weights.mean(axis=2)\n",
    "\n",
    "rao_black_traj = np.zeros((n_steps, n_conditional_nodes, t_max, len(mu)))\n",
    "for r in range(n_steps):\n",
    "    for p in range(n_conditional_nodes):\n",
    "        for m in range(n_nodes):\n",
    "            weighted_sum_parts = np.zeros((t_max, len(mu)))\n",
    "            for n in range(n_particles):\n",
    "                weighted_sum_parts += w_barre[r, m, n] * particles[r, m, :, n]\n",
    "            weighted_zetas = zetas[r, p, m] * weighted_sum_parts\n",
    "            rao_black_traj[r, p] += weighted_zetas\n",
    "\n",
    "estimated_means_from_ipmcmc = np.mean(rao_black_traj, axis=(0,1))"
   ]
  },
  {
   "cell_type": "code",
   "execution_count": 40,
   "metadata": {},
   "outputs": [],
   "source": [
    "def computeError(rao_black_traj, ground_truth, mcmc_step=100, state_step=None):\n",
    "    if state_step is None:\n",
    "        estimated_mean = np.mean(rao_black_traj[0:mcmc_step], axis=(0,1))\n",
    "        return np.mean((estimated_mean - ground_truth)**2)\n",
    "    else:\n",
    "        estimated_mean = np.mean(rao_black_traj[:,:,0:state_step], axis=(0,1))\n",
    "        return np.mean((estimated_mean - ground_truth[0:state_step])**2)\n"
   ]
  },
  {
   "cell_type": "code",
   "execution_count": 50,
   "metadata": {},
   "outputs": [],
   "source": [
    "errors_function_of_mcmc_step = []\n",
    "errors_function_of_state_step = []\n",
    "for r in range(1, (n_steps+1)):\n",
    "    errors_function_of_mcmc_step.append(computeError(rao_black_traj, means, r))\n",
    "    \n",
    "for t in range(1, (t_max+1)):\n",
    "    errors_function_of_state_step.append(computeError(rao_black_traj, means, state_step=t))"
   ]
  },
  {
   "cell_type": "code",
   "execution_count": 51,
   "metadata": {},
   "outputs": [
    {
     "data": {
      "image/png": "[encoded data removed]",
      "text/plain": [
       "<Figure size 432x288 with 1 Axes>"
      ]
     },
     "metadata": {
      "needs_background": "light"
     },
     "output_type": "display_data"
    }
   ],
   "source": [
    "%matplotlib inline\n",
    "import matplotlib.pyplot as plt\n",
    "\n",
    "\n",
    "plt.plot(errors_function_of_mcmc_step)\n",
    "plt.plot(errors_function_of_state_step)\n",
    "plt.savefig('error.png')"
   ]
  },
  {
   "cell_type": "code",
   "execution_count": 52,
   "metadata": {},
   "outputs": [
    {
     "data": {
      "text/plain": [
       "[0.019942060898254208,\n",
       " 0.0689888042587977,\n",
       " 0.17382803296240698,\n",
       " 0.20706046399105923,\n",
       " 0.2786403057265912,\n",
       " 0.32728260076623245,\n",
       " 0.332581304934841,\n",
       " 0.3419124666990414,\n",
       " 0.37522973649035773,\n",
       " 0.4153713890848757,\n",
       " 0.46841273424464186,\n",
       " 0.5013741105404392,\n",
       " 0.5240061914291281,\n",
       " 0.5823685256713305,\n",
       " 0.6216273483169731,\n",
       " 0.6358330660067274,\n",
       " 0.6650038119908835,\n",
       " 0.6837521191017075,\n",
       " 0.6818548791285468,\n",
       " 0.6794533156351978,\n",
       " 0.684601859896129,\n",
       " 0.7123447429022152,\n",
       " 0.739825677028845,\n",
       " 0.7638850920674337,\n",
       " 0.7824752847281655,\n",
       " 0.7892111839794665,\n",
       " 0.7941952939166121,\n",
       " 0.8262470527346755,\n",
       " 0.8652597360251526,\n",
       " 0.9145554005775632,\n",
       " 0.9553246133333004,\n",
       " 0.973145645108322,\n",
       " 0.9949154119145074,\n",
       " 1.0319509230655963,\n",
       " 1.0785080186037335,\n",
       " 1.1126555084315282,\n",
       " 1.1596462210033345,\n",
       " 1.2514170268365776,\n",
       " 1.3600354555012204,\n",
       " 1.4643754576026173,\n",
       " 1.5671666707493084,\n",
       " 1.6557923891366535,\n",
       " 1.734047052457613,\n",
       " 1.7875192367311643,\n",
       " 1.8433689940573783,\n",
       " 1.9106730599771555,\n",
       " 1.9576513193415201,\n",
       " 1.989388571764671,\n",
       " 2.01940548680146,\n",
       " 2.147217256725901]"
      ]
     },
     "execution_count": 52,
     "metadata": {},
     "output_type": "execute_result"
    }
   ],
   "source": [
    "errors_function_of_state_step\n"
   ]
  },
  {
   "cell_type": "code",
   "execution_count": 72,
   "metadata": {},
   "outputs": [],
   "source": [
    "import time\n",
    "\n",
    "def build_unique_states(particles):\n",
    "    unique_states = []\n",
    "    n_steps, n_nodes, trajectories_length, n_particles, _ = particles.shape\n",
    "    for t in range(trajectories_length):\n",
    "        print(t)\n",
    "        timet = time.time()\n",
    "        unique_states.append([])\n",
    "        for r in range(n_steps):\n",
    "            for m in range(n_nodes):\n",
    "                for n in range(n_particles):\n",
    "                    particle_state = particles[r, m, t, n]\n",
    "                    already_in = False\n",
    "                    if len(np.unique(np.array(unique_states[t] + [particle_state]), axis=0)) != len(unique_states[t]):\n",
    "                        unique_states[t].append(particle_state)\n",
    "        #            for x in unique_states[t]:\n",
    "        #                if (particle_state == x).all():\n",
    "        #                   already_in = True\n",
    "        #            if not already_in:\n",
    "        #                unique_states[t].append(particle_state)\n",
    "        print(time.time() - timet)\n",
    "            \n",
    "def compute_ess(particles, weights, rao_black_traj):\n",
    "    return None"
   ]
  },
  {
   "cell_type": "code",
   "execution_count": 63,
   "metadata": {},
   "outputs": [
    {
     "data": {
      "text/plain": [
       "(100, 32, 100, 3)"
      ]
     },
     "execution_count": 63,
     "metadata": {},
     "output_type": "execute_result"
    }
   ],
   "source": [
    "particles[:,:,0].shape"
   ]
  },
  {
   "cell_type": "code",
   "execution_count": 73,
   "metadata": {},
   "outputs": [
    {
     "name": "stdout",
     "output_type": "stream",
     "text": [
      "0\n"
     ]
    },
    {
     "ename": "UnboundLocalError",
     "evalue": "local variable 'time' referenced before assignment",
     "output_type": "error",
     "traceback": [
      "\u001b[0;31m---------------------------------------------------------------------------\u001b[0m",
      "\u001b[0;31mUnboundLocalError\u001b[0m                         Traceback (most recent call last)",
      "\u001b[0;32m<ipython-input-73-c8001a52a831>\u001b[0m in \u001b[0;36m<module>\u001b[0;34m()\u001b[0m\n\u001b[0;32m----> 1\u001b[0;31m \u001b[0munique_states\u001b[0m \u001b[0;34m=\u001b[0m \u001b[0mbuild_unique_states\u001b[0m\u001b[0;34m(\u001b[0m\u001b[0mparticles\u001b[0m\u001b[0;34m)\u001b[0m\u001b[0;34m\u001b[0m\u001b[0m\n\u001b[0m",
      "\u001b[0;32m<ipython-input-72-23319a795a1b>\u001b[0m in \u001b[0;36mbuild_unique_states\u001b[0;34m(particles)\u001b[0m\n\u001b[1;32m      6\u001b[0m     \u001b[0;32mfor\u001b[0m \u001b[0mt\u001b[0m \u001b[0;32min\u001b[0m \u001b[0mrange\u001b[0m\u001b[0;34m(\u001b[0m\u001b[0mtrajectories_length\u001b[0m\u001b[0;34m)\u001b[0m\u001b[0;34m:\u001b[0m\u001b[0;34m\u001b[0m\u001b[0m\n\u001b[1;32m      7\u001b[0m         \u001b[0mprint\u001b[0m\u001b[0;34m(\u001b[0m\u001b[0mt\u001b[0m\u001b[0;34m)\u001b[0m\u001b[0;34m\u001b[0m\u001b[0m\n\u001b[0;32m----> 8\u001b[0;31m         \u001b[0mtime\u001b[0m \u001b[0;34m=\u001b[0m \u001b[0mtime\u001b[0m\u001b[0;34m.\u001b[0m\u001b[0mtime\u001b[0m\u001b[0;34m(\u001b[0m\u001b[0;34m)\u001b[0m\u001b[0;34m\u001b[0m\u001b[0m\n\u001b[0m\u001b[1;32m      9\u001b[0m         \u001b[0munique_states\u001b[0m\u001b[0;34m.\u001b[0m\u001b[0mappend\u001b[0m\u001b[0;34m(\u001b[0m\u001b[0;34m[\u001b[0m\u001b[0;34m]\u001b[0m\u001b[0;34m)\u001b[0m\u001b[0;34m\u001b[0m\u001b[0m\n\u001b[1;32m     10\u001b[0m         \u001b[0;32mfor\u001b[0m \u001b[0mr\u001b[0m \u001b[0;32min\u001b[0m \u001b[0mrange\u001b[0m\u001b[0;34m(\u001b[0m\u001b[0mn_steps\u001b[0m\u001b[0;34m)\u001b[0m\u001b[0;34m:\u001b[0m\u001b[0;34m\u001b[0m\u001b[0m\n",
      "\u001b[0;31mUnboundLocalError\u001b[0m: local variable 'time' referenced before assignment"
     ]
    }
   ],
   "source": [
    "unique_states = build_unique_states(particles)"
   ]
  },
  {
   "cell_type": "code",
   "execution_count": null,
   "metadata": {},
   "outputs": [],
   "source": []
  }
 ],
 "metadata": {
  "kernelspec": {
   "display_name": "Python 3",
   "language": "python",
   "name": "python3"
  },
  "language_info": {
   "codemirror_mode": {
    "name": "ipython",
    "version": 3
   },
   "file_extension": ".py",
   "mimetype": "text/x-python",
   "name": "python",
   "nbconvert_exporter": "python",
   "pygments_lexer": "ipython3",
   "version": "3.6.6"
  }
 },
 "nbformat": 4,
 "nbformat_minor": 2
}
