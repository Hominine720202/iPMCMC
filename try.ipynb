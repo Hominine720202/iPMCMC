{
 "cells": [
  {
   "cell_type": "code",
   "execution_count": 1,
   "metadata": {},
   "outputs": [],
   "source": [
    "import os\n",
    "os.chdir('/Users/corentin/Documents/M2/BIPODS/Project/iPMCMC/ipmcmc')\n",
    "%run generate_data.py\n",
    "%run linear_gaussian_state_model\n",
    "%run smc.py\n",
    "%run csmc.py\n",
    "%run ipmcmc.py"
   ]
  },
  {
   "cell_type": "code",
   "execution_count": 2,
   "metadata": {},
   "outputs": [
    {
     "data": {
      "text/plain": [
       "((50, 3), (50, 20))"
      ]
     },
     "metadata": {},
     "output_type": "display_data"
    }
   ],
   "source": [
    "\n",
    "# 4.1. Linear Gaussian State Space Model\n",
    "from scipy.spatial.transform import Rotation as R\n",
    "np.random.seed(420)\n",
    "\n",
    "# Parameters\n",
    "r = R.from_rotvec(np.array([7*np.pi/10, 3*np.pi/10, np.pi/20]))\n",
    "rotation_matrix = r.as_dcm()\n",
    "scaling_matrix = 0.99*np.eye(3)\n",
    "beta = np.random.dirichlet(np.ones(20)*0.2, 3).transpose()\n",
    "alpha = scaling_matrix@rotation_matrix\n",
    "t_max = 50\n",
    "mu = np.array([0, 1, 1])\n",
    "start_var = 0.1*np.eye(3)\n",
    "omega = np.eye(3)\n",
    "sigma = 0.1*np.eye(20)\n",
    "\n",
    "\n",
    "n_particles = 100\n",
    "\n",
    "linear_transition_model = [LinearMu(default_mean=mu, default_cov=start_var)]+[LinearTransition(default_mean=np.zeros(3),default_cov=omega,default_alpha=alpha) for t in range(1, t_max)]\n",
    "linear_proposals = [LinearMu(default_mean=mu, default_cov=start_var)]+[LinearProposal(default_mean=np.zeros(3),default_cov=omega,default_alpha=alpha) for t in range(1, t_max)]\n",
    "linear_observation_model = [LinearObservation(default_mean=np.zeros(20),default_cov=sigma,default_beta=beta) for t in range(0, t_max)]\n",
    "\n",
    "\n",
    "# If we want to change the parameters\n",
    "assert np.all(np.linalg.eigvals(start_var) > 0)\n",
    "assert np.all(np.linalg.eigvals(omega) > 0)\n",
    "assert np.all(np.linalg.eigvals(sigma) > 0)\n",
    "\n",
    "l_states, l_observations = linear_gaussian_state_space(t_max=t_max, mu=mu, start_var=start_var, transition_var=omega, noise_var=sigma, transition_coeffs=alpha, observation_coeffs=beta)\n",
    "display((l_states.shape, l_observations.shape))"
   ]
  },
  {
   "cell_type": "code",
   "execution_count": 8,
   "metadata": {},
   "outputs": [],
   "source": [
    "n_nodes = 32\n",
    "n_conditional_nodes = 16\n",
    "n_steps = 100\n",
    "init_conditional_traj = np.zeros((n_conditional_nodes, t_max, len(mu)))\n",
    "\n",
    "for i in range(n_conditional_nodes):\n",
    "    particles, _, _ = smc(l_observations, n_particles,\n",
    "       linear_transition_model, linear_proposals, linear_observation_model)\n",
    "    init_conditional_traj[i] = particles.mean(axis=1)"
   ]
  },
  {
   "cell_type": "code",
   "execution_count": 9,
   "metadata": {},
   "outputs": [],
   "source": [
    "particles, conditional_traj, weights, conditional_indices, zetas = ipmcmc(\n",
    "    n_steps, n_nodes, n_conditional_nodes, l_observations, n_particles, init_conditional_traj,\n",
    "    linear_proposals, linear_transition_model, linear_observation_model)"
   ]
  },
  {
   "cell_type": "code",
   "execution_count": 21,
   "metadata": {},
   "outputs": [
    {
     "data": {
      "text/plain": [
       "(5, 16, 32)"
      ]
     },
     "execution_count": 21,
     "metadata": {},
     "output_type": "execute_result"
    }
   ],
   "source": [
    "zetas.shape"
   ]
  },
  {
   "cell_type": "code",
   "execution_count": 10,
   "metadata": {},
   "outputs": [],
   "source": [
    "from filterpy.kalman import KalmanFilter\n",
    "\n",
    "fk = KalmanFilter(dim_x=3, dim_z=20)\n",
    "\n",
    "fk.x = l_states[0]\n",
    "fk.P = start_var\n",
    "\n",
    "fk.F = alpha\n",
    "fk.Q = omega\n",
    "\n",
    "fk.H = beta\n",
    "fk.R = sigma\n",
    "\n",
    "mu_kal, cov_kal, _, _ = fk.batch_filter(l_observations)\n",
    "means, covs, gain, predicted_covs = fk.rts_smoother(mu_kal, cov_kal)"
   ]
  },
  {
   "cell_type": "code",
   "execution_count": null,
   "metadata": {},
   "outputs": [],
   "source": []
  },
  {
   "cell_type": "code",
   "execution_count": 15,
   "metadata": {},
   "outputs": [],
   "source": [
    "w_barre = weights.mean(axis=2)\n",
    "\n",
    "rao_black_traj = np.zeros((n_steps, n_conditional_nodes, t_max, len(mu)))\n",
    "for r in range(n_steps):\n",
    "    for p in range(n_conditional_nodes):\n",
    "        for m in range(n_nodes):\n",
    "            weighted_sum_parts = np.zeros((t_max, len(mu)))\n",
    "            for n in range(n_particles):\n",
    "                weighted_sum_parts += w_barre[r, m, n] * particles[r, m, :, n]\n",
    "            weighted_zetas = zetas[r, p, m] * weighted_sum_parts\n",
    "            rao_black_traj[r, p] += weighted_zetas\n",
    "\n",
    "estimated_means_from_ipmcmc = np.mean(rao_black_traj, axis=(0,1))"
   ]
  },
  {
   "cell_type": "code",
   "execution_count": 40,
   "metadata": {},
   "outputs": [],
   "source": [
    "def computeError(rao_black_traj, ground_truth, mcmc_step=100, state_step=None):\n",
    "    if state_step is None:\n",
    "        estimated_mean = np.mean(rao_black_traj[0:mcmc_step], axis=(0,1))\n",
    "        return np.mean((estimated_mean - ground_truth)**2)\n",
    "    else:\n",
    "        estimated_mean = np.mean(rao_black_traj[:,:,0:state_step], axis=(0,1))\n",
    "        return np.mean((estimated_mean - ground_truth[0:state_step])**2)\n"
   ]
  },
  {
   "cell_type": "code",
   "execution_count": 41,
   "metadata": {},
   "outputs": [],
   "source": [
    "errors_function_of_mcmc_step = []\n",
    "errors_function_of_state_step = []\n",
    "for r in range(1, (n_steps+1)):\n",
    "    errors_function_of_mcmc_step.append(computeError(rao_black_traj, means, r))\n",
    "    \n",
    "for t in range(1, (t_max+1)):\n",
    "    errors_function_of_state_step.append(computeError(rao_black_traj, means, state_step=t))"
   ]
  },
  {
   "cell_type": "code",
   "execution_count": 44,
   "metadata": {},
   "outputs": [
    {
     "data": {
      "text/plain": [
       "[<matplotlib.lines.Line2D at 0x13ceed2b0>]"
      ]
     },
     "execution_count": 44,
     "metadata": {},
     "output_type": "execute_result"
    },
    {
     "data": {
      "image/png": "[encoded data removed]",
      "text/plain": [
       "<Figure size 432x288 with 1 Axes>"
      ]
     },
     "metadata": {
      "needs_background": "light"
     },
     "output_type": "display_data"
    }
   ],
   "source": [
    "%matplotlib inline\n",
    "import matplotlib.pyplot as plt\n",
    "\n",
    "\n",
    "plt.plot(np.log10(errors_function_of_mcmc_step))\n",
    "plt.plot(errors_function_of_state_step)"
   ]
  },
  {
   "cell_type": "code",
   "execution_count": 43,
   "metadata": {},
   "outputs": [
    {
     "data": {
      "text/plain": [
       "[0.009979301461982256,\n",
       " 0.06001476457100232,\n",
       " 0.16696534471198232,\n",
       " 0.20180453651225816,\n",
       " 0.27440887920765367,\n",
       " 0.3237522386662659,\n",
       " 0.32955474569803217,\n",
       " 0.33926408495532884,\n",
       " 0.372875583294166,\n",
       " 0.41325264043525334,\n",
       " 0.46648659715049867,\n",
       " 0.49960848451794504,\n",
       " 0.5223763827383697,\n",
       " 0.5808551318741506,\n",
       " 0.6202148474376687,\n",
       " 0.6345088464322415,\n",
       " 0.6637574876854543,\n",
       " 0.6825750350354581,\n",
       " 0.680739746855256,\n",
       " 0.6783939399755715,\n",
       " 0.6835929306964852,\n",
       " 0.7113816741207367,\n",
       " 0.7389044808030831,\n",
       " 0.7630022790177452,\n",
       " 0.7816277842004645,\n",
       " 0.7883962796259079,\n",
       " 0.793410571205778,\n",
       " 0.8254903558349425,\n",
       " 0.864529132121962,\n",
       " 0.9138491501378122,\n",
       " 0.9546411451657995,\n",
       " 0.9724835353210556,\n",
       " 0.9942733660601885,\n",
       " 1.031327760912875,\n",
       " 1.077902661083947,\n",
       " 1.1120669663984024,\n",
       " 1.1590735855116445,\n",
       " 1.2508594606999321,\n",
       " 1.3594921859321811,\n",
       " 1.4638457697728042,\n",
       " 1.5666499021348566,\n",
       " 1.6552879245368317,\n",
       " 1.7335543195926706,\n",
       " 1.787037702340425,\n",
       " 1.8428981604308776,\n",
       " 1.9102124618642748,\n",
       " 1.9572005211884873,\n",
       " 1.988947165239827,\n",
       " 2.0189730885730413,\n",
       " 2.1467935064620502]"
      ]
     },
     "execution_count": 43,
     "metadata": {},
     "output_type": "execute_result"
    }
   ],
   "source": [
    "errors_function_of_state_step\n"
   ]
  },
  {
   "cell_type": "code",
   "execution_count": null,
   "metadata": {},
   "outputs": [],
   "source": []
  }
 ],
 "metadata": {
  "kernelspec": {
   "display_name": "Python 3",
   "language": "python",
   "name": "python3"
  },
  "language_info": {
   "codemirror_mode": {
    "name": "ipython",
    "version": 3
   },
   "file_extension": ".py",
   "mimetype": "text/x-python",
   "name": "python",
   "nbconvert_exporter": "python",
   "pygments_lexer": "ipython3",
   "version": "3.6.6"
  }
 },
 "nbformat": 4,
 "nbformat_minor": 2
}
