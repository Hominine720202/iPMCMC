{
 "cells": [
  {
   "cell_type": "code",
   "execution_count": 1,
   "metadata": {},
   "outputs": [],
   "source": [
    "import numpy as np\n",
    "\n",
    "def init_proposal(sampler, params):\n",
    "    return lambda n: sampler(**params, size=n)\n",
    "\n",
    "def CSMC(obs, N, conditional_traj, proposals_samplers, proposals_dens, transition_dens, obs_dens, init_dens):\n",
    "    particles = np.array([[]])\n",
    "    weights = [[]]\n",
    "    particles[0] = np.append(proposals_samplers[0](N-1), conditional_traj[0][np.newaxis,:])\n",
    "    for i in range(N):\n",
    "        weights[0].append(obs_dens[0](obs[0], particles[0, i]) * init_dens(particles[0, i]) / proposals_dens[0](particles[0, i]))\n",
    "    T = len(obs)\n",
    "    ancestors = np.array([[]])\n",
    "    for t in range(1, T):\n",
    "        ancestors[t-1] = np.append(np.random.choice(range(1, N+1), size=N-1, p=weights[t-1]), N)\n",
    "        \n",
    "        new_particles = []\n",
    "        for i in range(N-1):\n",
    "            new_particles.append(proposals_samplers[0](1, particles[0:t-1, ancestors[t-1,i]]))\n",
    "        new_particles.append(conditional_traj[t])\n",
    "        particles[t] = np.array(new_particles)\n",
    "        weights.append([])\n",
    "        for i in range(N):\n",
    "            particles[0:t, i] = particles[0:t, ancestors[t-1,i]]\n",
    "            weights[t].append(obs_dens[t](obs[t], particles[0:t+1, i]) * transition_dens[t-1](particles[0:t, ancestors[t-1,i]]) / proposals_dens[t](particles[0:t, ancestors[t-1,i]]))\n",
    "        \n"
   ]
  },
  {
   "cell_type": "code",
   "execution_count": 63,
   "metadata": {},
   "outputs": [],
   "source": [
    "import os\n",
    "os.chdir('/Users/corentin/Documents/M2/BIPODS/Project/iPMCMC/ipmcmc')"
   ]
  },
  {
   "cell_type": "code",
   "execution_count": 64,
   "metadata": {},
   "outputs": [],
   "source": [
    "from scipy.spatial.transform import Rotation as R\n",
    "%run generate_data.py\n",
    "%run utils.py\n",
    "\n",
    "np.random.seed(420)\n",
    "\n",
    "# Parameters\n",
    "r = R.from_rotvec(np.array([7*np.pi/10, 3*np.pi/10, np.pi/20]))\n",
    "rotation_matrix = r.as_dcm()\n",
    "scaling_matrix = 0.99*np.eye(3)\n",
    "beta = np.random.dirichlet(np.ones(20)*0.2, 3).transpose()\n",
    "alpha = scaling_matrix@rotation_matrix\n",
    "t_max = 50\n",
    "mu = np.array([0, 1, 1])\n",
    "start_var = 0.1*np.eye(3)\n",
    "omega = np.eye(3)\n",
    "sigma = 0.1*np.eye(20)\n",
    "\n",
    "# If we want to change the parameters\n",
    "assert np.all(np.linalg.eigvals(start_var) > 0)\n",
    "assert np.all(np.linalg.eigvals(omega) > 0)\n",
    "assert np.all(np.linalg.eigvals(sigma) > 0)\n",
    "\n",
    "l_states, l_observations = linear_gaussian_state_space(t_max=t_max, mu=mu, start_var=start_var, transition_var=omega, noise_var=sigma, transition_coeffs=alpha, observation_coeffs=beta)"
   ]
  },
  {
   "cell_type": "code",
   "execution_count": 60,
   "metadata": {},
   "outputs": [
    {
     "data": {
      "text/plain": [
       "(50, 20)"
      ]
     },
     "execution_count": 60,
     "metadata": {},
     "output_type": "execute_result"
    }
   ],
   "source": [
    "l_observations.shape"
   ]
  },
  {
   "cell_type": "code",
   "execution_count": 65,
   "metadata": {},
   "outputs": [],
   "source": [
    "transition_dens = np.array([gaussian_density(mu, start_var)] + [gaussian_density_var(omega, alpha)] * (t_max-1))\n",
    "proposals_dens = np.copy(transition_dens)\n",
    "obs_dens = np.array([gaussian_density_var(sigma, beta)] * t_max)\n",
    "\n",
    "proposals_samplers = np.array([lambda n: np.random.multivariate_normal(mu, start_var, size=n)] + [lambda mu: np.random.multivariate_normal(mu, omega)] * (t_max - 1))\n",
    "\n",
    "conditional_traj = l_states\n",
    "N = 32"
   ]
  },
  {
   "cell_type": "code",
   "execution_count": 51,
   "metadata": {},
   "outputs": [
    {
     "data": {
      "text/plain": [
       "<function gaussian_density.<locals>.dens_func(x)>"
      ]
     },
     "execution_count": 51,
     "metadata": {},
     "output_type": "execute_result"
    }
   ],
   "source": [
    "transition_dens[0]\n"
   ]
  },
  {
   "cell_type": "code",
   "execution_count": 67,
   "metadata": {},
   "outputs": [
    {
     "ename": "IndexError",
     "evalue": "only integers, slices (`:`), ellipsis (`...`), numpy.newaxis (`None`) and integer or boolean arrays are valid indices",
     "output_type": "error",
     "traceback": [
      "\u001b[0;31m---------------------------------------------------------------------------\u001b[0m",
      "\u001b[0;31mIndexError\u001b[0m                                Traceback (most recent call last)",
      "\u001b[0;32m<ipython-input-67-463d3e356ecd>\u001b[0m in \u001b[0;36m<module>\u001b[0;34m()\u001b[0m\n\u001b[1;32m      1\u001b[0m \u001b[0mget_ipython\u001b[0m\u001b[0;34m(\u001b[0m\u001b[0;34m)\u001b[0m\u001b[0;34m.\u001b[0m\u001b[0mrun_line_magic\u001b[0m\u001b[0;34m(\u001b[0m\u001b[0;34m'run'\u001b[0m\u001b[0;34m,\u001b[0m \u001b[0;34m'csmc.py'\u001b[0m\u001b[0;34m)\u001b[0m\u001b[0;34m\u001b[0m\u001b[0m\n\u001b[1;32m      2\u001b[0m \u001b[0;34m\u001b[0m\u001b[0m\n\u001b[0;32m----> 3\u001b[0;31m \u001b[0mparticles\u001b[0m\u001b[0;34m,\u001b[0m \u001b[0mweights\u001b[0m \u001b[0;34m=\u001b[0m \u001b[0mCSMC\u001b[0m\u001b[0;34m(\u001b[0m\u001b[0ml_observations\u001b[0m\u001b[0;34m,\u001b[0m \u001b[0mN\u001b[0m\u001b[0;34m,\u001b[0m \u001b[0mconditional_traj\u001b[0m\u001b[0;34m,\u001b[0m \u001b[0mproposals_samplers\u001b[0m\u001b[0;34m,\u001b[0m \u001b[0mproposals_dens\u001b[0m\u001b[0;34m,\u001b[0m \u001b[0mtransition_dens\u001b[0m\u001b[0;34m,\u001b[0m \u001b[0mobs_dens\u001b[0m\u001b[0;34m)\u001b[0m\u001b[0;34m\u001b[0m\u001b[0m\n\u001b[0m",
      "\u001b[0;32m~/Documents/M2/BIPODS/Project/iPMCMC/ipmcmc/csmc.py\u001b[0m in \u001b[0;36mCSMC\u001b[0;34m(obs, N, conditional_traj, proposals_samplers, proposals_dens, transition_dens, obs_dens)\u001b[0m\n\u001b[1;32m     19\u001b[0m         \u001b[0;32mfor\u001b[0m \u001b[0mi\u001b[0m \u001b[0;32min\u001b[0m \u001b[0mrange\u001b[0m\u001b[0;34m(\u001b[0m\u001b[0mN\u001b[0m\u001b[0;34m-\u001b[0m\u001b[0;36m1\u001b[0m\u001b[0;34m)\u001b[0m\u001b[0;34m:\u001b[0m\u001b[0;34m\u001b[0m\u001b[0m\n\u001b[1;32m     20\u001b[0m             new_particles.append(proposals_samplers[0](\n\u001b[0;32m---> 21\u001b[0;31m                 1, particles[0:t-1, ancestors[t-1, i]]))\n\u001b[0m\u001b[1;32m     22\u001b[0m         \u001b[0mnew_particles\u001b[0m\u001b[0;34m.\u001b[0m\u001b[0mappend\u001b[0m\u001b[0;34m(\u001b[0m\u001b[0mconditional_traj\u001b[0m\u001b[0;34m[\u001b[0m\u001b[0mt\u001b[0m\u001b[0;34m]\u001b[0m\u001b[0;34m)\u001b[0m\u001b[0;34m\u001b[0m\u001b[0m\n\u001b[1;32m     23\u001b[0m         \u001b[0mparticles\u001b[0m\u001b[0;34m[\u001b[0m\u001b[0mt\u001b[0m\u001b[0;34m]\u001b[0m \u001b[0;34m=\u001b[0m \u001b[0mnp\u001b[0m\u001b[0;34m.\u001b[0m\u001b[0marray\u001b[0m\u001b[0;34m(\u001b[0m\u001b[0mnew_particles\u001b[0m\u001b[0;34m)\u001b[0m\u001b[0;34m\u001b[0m\u001b[0m\n",
      "\u001b[0;31mIndexError\u001b[0m: only integers, slices (`:`), ellipsis (`...`), numpy.newaxis (`None`) and integer or boolean arrays are valid indices"
     ]
    }
   ],
   "source": [
    "%run csmc.py\n",
    "\n",
    "particles, weights = CSMC(l_observations, N, conditional_traj, proposals_samplers, proposals_dens, transition_dens, obs_dens)"
   ]
  },
  {
   "cell_type": "code",
   "execution_count": 61,
   "metadata": {},
   "outputs": [
    {
     "name": "stdout",
     "output_type": "stream",
     "text": [
      "[[-0.50170531  1.04068852  1.62698387]\n",
      " [ 0.33384116  0.99340188  1.1345917 ]\n",
      " [ 0.17148658  0.93744378  1.62101318]\n",
      " [ 0.36847673  0.36561076  0.81734616]\n",
      " [-0.10589992  1.08578217  0.74194158]\n",
      " [-0.24699728  1.43413504  0.89132101]\n",
      " [-0.20117617  1.24179453  0.74947656]\n",
      " [-0.19071568  1.54448572  0.27930383]\n",
      " [-0.11032444  1.34820326  1.4599226 ]\n",
      " [ 0.15274258  0.70012542  0.80941941]\n",
      " [-0.10950861  1.30738528  0.39357352]\n",
      " [ 0.01498976  0.69287057  1.28668052]\n",
      " [ 0.24785446  1.3736419   0.8927272 ]\n",
      " [-0.20887344  1.03612004  0.65600623]\n",
      " [-0.36910357  0.74011164  0.75600202]\n",
      " [-0.13489697  1.28852297  0.60432013]\n",
      " [ 0.16723946  0.81533776  0.81079233]\n",
      " [-0.28643024  0.82809063  0.86769238]\n",
      " [-0.31276472  0.87842174  0.88587284]\n",
      " [ 0.12761458  1.15714584  0.46966809]\n",
      " [-0.02252211  0.47466515  0.27208194]\n",
      " [ 0.13336899  2.04941201  1.32863193]\n",
      " [-0.4088136   2.11271922  1.08119452]\n",
      " [-0.23800956  1.21126769  0.97695511]\n",
      " [-0.2211363   1.12196548  1.24784228]\n",
      " [-0.07346358  0.72323759  1.30374579]\n",
      " [-0.23384408  1.39662264  1.02274826]\n",
      " [-0.09910535  0.78591384  0.29646275]\n",
      " [ 0.55979767  1.31115567  0.92065621]\n",
      " [-0.17431329  1.16389621  0.67696052]\n",
      " [ 0.3562818   1.51288998  1.00390146]]\n",
      "[[-0.19030198  0.63858924  1.17375978]]\n",
      "[[-0.14098927  1.4445248   0.93046531]\n",
      " [ 0.29642341  1.25675477  1.46905423]\n",
      " [-0.10017579  0.39200196  1.42438657]\n",
      " [ 0.45051347  1.07813269  0.80719288]\n",
      " [-0.14967468  0.4596865   1.50016839]\n",
      " [ 0.61764806  0.9556056   0.79317977]\n",
      " [-0.35221812  1.17287615  0.97488078]\n",
      " [-0.53863564  0.58308825  1.11049119]\n",
      " [ 0.17114206  0.98250536  1.46128895]\n",
      " [-0.00754057  0.61490523  1.52655089]\n",
      " [ 0.09462104  0.56944508  1.11027936]\n",
      " [ 0.07395067  0.60754081  0.62718805]\n",
      " [-0.0557246   1.0058165   0.94555009]\n",
      " [ 0.16540671  1.27650762  0.99245812]\n",
      " [-0.31042094  0.50295288  1.09796948]\n",
      " [-0.24837836  0.77600691  1.20004544]\n",
      " [ 0.86860081  1.06815195  0.56987407]\n",
      " [ 0.17893815  0.86656878  0.54287831]\n",
      " [-0.13947478  1.51267509  1.36996274]\n",
      " [ 0.04754303  1.38605024  1.16874582]\n",
      " [-0.59643509  1.10209811  0.86230627]\n",
      " [-0.00644468  1.33676223  1.49266408]\n",
      " [-0.0448334   0.40269268  1.09571579]\n",
      " [ 0.31544243  0.85519434  0.96971471]\n",
      " [ 0.16718962  1.16100491  0.99353364]\n",
      " [ 0.00887002  1.27915103  0.77737854]\n",
      " [ 0.43148782  0.69640928  1.42879416]\n",
      " [-0.14443927  1.21530928  1.00064599]\n",
      " [-0.398533    1.0660884   0.94882266]\n",
      " [ 0.54882841  0.7293673   1.36946925]\n",
      " [ 0.25755648  1.26057453  1.12861297]\n",
      " [-0.19030198  0.63858924  1.17375978]]\n"
     ]
    }
   ],
   "source": []
  },
  {
   "cell_type": "code",
   "execution_count": 62,
   "metadata": {},
   "outputs": [
    {
     "data": {
      "text/plain": [
       "(50, 20)"
      ]
     },
     "execution_count": 62,
     "metadata": {},
     "output_type": "execute_result"
    }
   ],
   "source": [
    "l_observations.shape"
   ]
  },
  {
   "cell_type": "code",
   "execution_count": 67,
   "metadata": {},
   "outputs": [
    {
     "data": {
      "text/plain": [
       "True"
      ]
     },
     "execution_count": 67,
     "metadata": {},
     "output_type": "execute_result"
    }
   ],
   "source": []
  },
  {
   "cell_type": "code",
   "execution_count": null,
   "metadata": {},
   "outputs": [],
   "source": []
  }
 ],
 "metadata": {
  "kernelspec": {
   "display_name": "Python 3",
   "language": "python",
   "name": "python3"
  },
  "language_info": {
   "codemirror_mode": {
    "name": "ipython",
    "version": 3
   },
   "file_extension": ".py",
   "mimetype": "text/x-python",
   "name": "python",
   "nbconvert_exporter": "python",
   "pygments_lexer": "ipython3",
   "version": "3.6.6"
  }
 },
 "nbformat": 4,
 "nbformat_minor": 2
}
