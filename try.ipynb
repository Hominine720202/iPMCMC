{
 "cells": [
  {
   "cell_type": "code",
   "execution_count": 53,
   "metadata": {},
   "outputs": [],
   "source": [
    "import os\n",
    "os.chdir('/Users/corentin/Documents/M2/BIPODS/Project/iPMCMC/ipmcmc')\n",
    "%run generate_data.py\n",
    "%run linear_gaussian_state_model\n",
    "%run smc.py\n",
    "%run csmc.py\n",
    "%run ipmcmc.py"
   ]
  },
  {
   "cell_type": "code",
   "execution_count": 32,
   "metadata": {},
   "outputs": [
    {
     "data": {
      "text/plain": [
       "((50, 3), (50, 20))"
      ]
     },
     "metadata": {},
     "output_type": "display_data"
    },
    {
     "name": "stderr",
     "output_type": "stream",
     "text": [
      "100%|██████████| 49/49 [00:01<00:00, 28.09it/s]\n"
     ]
    }
   ],
   "source": [
    "\n",
    "# 4.1. Linear Gaussian State Space Model\n",
    "from scipy.spatial.transform import Rotation as R\n",
    "np.random.seed(420)\n",
    "\n",
    "# Parameters\n",
    "r = R.from_rotvec(np.array([7*np.pi/10, 3*np.pi/10, np.pi/20]))\n",
    "rotation_matrix = r.as_dcm()\n",
    "scaling_matrix = 0.99*np.eye(3)\n",
    "beta = np.random.dirichlet(np.ones(20)*0.2, 3).transpose()\n",
    "alpha = scaling_matrix@rotation_matrix\n",
    "t_max = 50\n",
    "mu = np.array([0, 1, 1])\n",
    "start_var = 0.1*np.eye(3)\n",
    "omega = np.eye(3)\n",
    "sigma = 0.1*np.eye(20)\n",
    "\n",
    "\n",
    "n_particles = 100\n",
    "\n",
    "linear_transition_model = [LinearMu(default_mean=mu, default_cov=start_var)]+[LinearTransitionModel(default_mean=np.zeros(3),default_cov=omega,default_alpha=alpha) for t in range(1, t_max)]\n",
    "linear_proposals = [LinearMu(default_mean=mu, default_cov=start_var)]+[LinearProposalModel(default_mean=np.zeros(3),default_cov=omega,default_alpha=alpha) for t in range(1, t_max)]\n",
    "linear_observation_model = [LinearObservationModel(default_mean=np.zeros(20),default_cov=sigma,default_beta=beta) for t in range(0, t_max)]\n",
    "\n",
    "\n",
    "# If we want to change the parameters\n",
    "assert np.all(np.linalg.eigvals(start_var) > 0)\n",
    "assert np.all(np.linalg.eigvals(omega) > 0)\n",
    "assert np.all(np.linalg.eigvals(sigma) > 0)\n",
    "\n",
    "l_states, l_observations = linear_gaussian_state_space(t_max=t_max, mu=mu, start_var=start_var, transition_var=omega, noise_var=sigma, transition_coeffs=alpha, observation_coeffs=beta)\n",
    "display((l_states.shape, l_observations.shape))\n",
    "\n",
    "l_particles, l_weights, l_ancestors = smc(l_observations, n_particles,\n",
    "       linear_transition_model, linear_proposals, linear_observation_model)"
   ]
  },
  {
   "cell_type": "code",
   "execution_count": 31,
   "metadata": {},
   "outputs": [
    {
     "name": "stderr",
     "output_type": "stream",
     "text": [
      "100%|██████████| 49/49 [00:01<00:00, 29.73it/s]\n",
      "100%|██████████| 49/49 [00:01<00:00, 31.21it/s]\n",
      "100%|██████████| 49/49 [00:01<00:00, 31.03it/s]\n",
      "100%|██████████| 49/49 [00:01<00:00, 29.24it/s]\n",
      "100%|██████████| 49/49 [00:01<00:00, 30.54it/s]\n",
      "100%|██████████| 49/49 [00:01<00:00, 31.44it/s]\n",
      "100%|██████████| 49/49 [00:01<00:00, 30.93it/s]\n",
      "100%|██████████| 49/49 [00:01<00:00, 30.95it/s]\n",
      "100%|██████████| 49/49 [00:01<00:00, 30.39it/s]\n",
      "100%|██████████| 49/49 [00:01<00:00, 27.39it/s]\n",
      "100%|██████████| 49/49 [00:02<00:00, 21.91it/s]\n",
      "100%|██████████| 49/49 [00:01<00:00, 27.91it/s]\n",
      "100%|██████████| 49/49 [00:01<00:00, 30.26it/s]\n",
      "100%|██████████| 49/49 [00:01<00:00, 30.41it/s]\n",
      "100%|██████████| 49/49 [00:01<00:00, 29.61it/s]\n",
      "100%|██████████| 49/49 [00:01<00:00, 30.20it/s]\n"
     ]
    },
    {
     "ename": "NameError",
     "evalue": "name 'ipmcmc' is not defined",
     "output_type": "error",
     "traceback": [
      "\u001b[0;31m---------------------------------------------------------------------------\u001b[0m",
      "\u001b[0;31mNameError\u001b[0m                                 Traceback (most recent call last)",
      "\u001b[0;32m<ipython-input-31-32e7c172de91>\u001b[0m in \u001b[0;36m<module>\u001b[0;34m()\u001b[0m\n\u001b[1;32m     10\u001b[0m \u001b[0;34m\u001b[0m\u001b[0m\n\u001b[1;32m     11\u001b[0m \u001b[0;34m\u001b[0m\u001b[0m\n\u001b[0;32m---> 12\u001b[0;31m a, b, c, d, e = ipmcmc(n_steps, n_nodes, n_conditional_nodes,\n\u001b[0m\u001b[1;32m     13\u001b[0m                        \u001b[0ml_observations\u001b[0m\u001b[0;34m,\u001b[0m \u001b[0mn_particles\u001b[0m\u001b[0;34m,\u001b[0m \u001b[0minit_conditional_traj\u001b[0m\u001b[0;34m,\u001b[0m\u001b[0;34m\u001b[0m\u001b[0m\n\u001b[1;32m     14\u001b[0m                        linear_proposals, linear_transition_model, linear_observation_model)\n",
      "\u001b[0;31mNameError\u001b[0m: name 'ipmcmc' is not defined"
     ]
    }
   ],
   "source": [
    "n_nodes = 32\n",
    "n_conditional_nodes = 16\n",
    "n_steps = 1\n",
    "init_conditional_traj = np.zeros((n_conditional_nodes, t_max, len(mu)))\n",
    "\n",
    "for i in range(n_conditional_nodes):\n",
    "    particles, _, _ = smc(l_observations, n_particles,\n",
    "       linear_transition_model, linear_proposals, linear_observation_model)\n",
    "    init_conditional_traj[i] = particles.mean(axis=1)"
   ]
  },
  {
   "cell_type": "code",
   "execution_count": 54,
   "metadata": {},
   "outputs": [
    {
     "name": "stderr",
     "output_type": "stream",
     "text": [
      "100%|██████████| 49/49 [00:01<00:00, 30.78it/s]\n",
      "100%|██████████| 49/49 [00:01<00:00, 30.35it/s]\n",
      "100%|██████████| 49/49 [00:01<00:00, 30.53it/s]\n",
      "100%|██████████| 49/49 [00:01<00:00, 31.05it/s]\n",
      "100%|██████████| 49/49 [00:01<00:00, 30.61it/s]\n",
      "100%|██████████| 49/49 [00:01<00:00, 30.54it/s]\n",
      "100%|██████████| 49/49 [00:01<00:00, 30.25it/s]\n",
      "100%|██████████| 49/49 [00:01<00:00, 31.18it/s]\n",
      "100%|██████████| 49/49 [00:01<00:00, 30.61it/s]\n",
      "100%|██████████| 49/49 [00:01<00:00, 30.51it/s]\n",
      "100%|██████████| 49/49 [00:01<00:00, 31.04it/s]\n",
      "100%|██████████| 49/49 [00:01<00:00, 30.60it/s]\n",
      "100%|██████████| 49/49 [00:01<00:00, 30.84it/s]\n",
      "100%|██████████| 49/49 [00:01<00:00, 31.10it/s]\n",
      "100%|██████████| 49/49 [00:01<00:00, 31.20it/s]\n",
      "100%|██████████| 49/49 [00:01<00:00, 31.20it/s]\n"
     ]
    }
   ],
   "source": [
    "a, b, c, d, e = ipmcmc(n_steps, n_nodes, n_conditional_nodes,\n",
    "                       l_observations, n_particles, init_conditional_traj,\n",
    "                       linear_proposals, linear_transition_model, linear_observation_model)"
   ]
  },
  {
   "cell_type": "code",
   "execution_count": 62,
   "metadata": {},
   "outputs": [
    {
     "data": {
      "text/plain": [
       "(50, 20)"
      ]
     },
     "execution_count": 62,
     "metadata": {},
     "output_type": "execute_result"
    }
   ],
   "source": [
    "l_observations.shape"
   ]
  },
  {
   "cell_type": "code",
   "execution_count": 60,
   "metadata": {},
   "outputs": [
    {
     "data": {
      "text/plain": [
       "array([[[0.00478469, 0.00956938, 0.02870813, 0.        , 0.        ,\n",
       "         0.        , 0.07655502, 0.        , 0.0861244 , 0.        ,\n",
       "         0.        , 0.        , 0.12440191, 0.13397129, 0.        ,\n",
       "         0.        , 0.        , 0.0430622 , 0.14832536, 0.03349282,\n",
       "         0.05263158, 0.01913876, 0.        , 0.        , 0.        ,\n",
       "         0.        , 0.02392344, 0.        , 0.1291866 , 0.07177033,\n",
       "         0.01435407, 0.        ],\n",
       "        [0.        , 0.00961538, 0.02884615, 0.        , 0.        ,\n",
       "         0.        , 0.07692308, 0.        , 0.08653846, 0.        ,\n",
       "         0.        , 0.        , 0.125     , 0.13461538, 0.        ,\n",
       "         0.        , 0.        , 0.04326923, 0.14903846, 0.03365385,\n",
       "         0.05288462, 0.01923077, 0.        , 0.        , 0.        ,\n",
       "         0.        , 0.02403846, 0.        , 0.12980769, 0.07211538,\n",
       "         0.01442308, 0.        ],\n",
       "        [0.        , 0.00961538, 0.02884615, 0.        , 0.        ,\n",
       "         0.        , 0.07692308, 0.        , 0.08653846, 0.        ,\n",
       "         0.        , 0.        , 0.125     , 0.13461538, 0.        ,\n",
       "         0.        , 0.        , 0.04326923, 0.14903846, 0.03365385,\n",
       "         0.05288462, 0.01923077, 0.        , 0.        , 0.        ,\n",
       "         0.        , 0.02403846, 0.        , 0.12980769, 0.07211538,\n",
       "         0.01442308, 0.        ],\n",
       "        [0.        , 0.00925926, 0.02777778, 0.03703704, 0.        ,\n",
       "         0.        , 0.07407407, 0.        , 0.08333333, 0.        ,\n",
       "         0.        , 0.        , 0.12037037, 0.12962963, 0.        ,\n",
       "         0.        , 0.        , 0.04166667, 0.14351852, 0.03240741,\n",
       "         0.05092593, 0.01851852, 0.        , 0.        , 0.        ,\n",
       "         0.        , 0.02314815, 0.        , 0.125     , 0.06944444,\n",
       "         0.01388889, 0.        ],\n",
       "        [0.        , 0.00909091, 0.02727273, 0.        , 0.05454545,\n",
       "         0.        , 0.07272727, 0.        , 0.08181818, 0.        ,\n",
       "         0.        , 0.        , 0.11818182, 0.12727273, 0.        ,\n",
       "         0.        , 0.        , 0.04090909, 0.14090909, 0.03181818,\n",
       "         0.05      , 0.01818182, 0.        , 0.        , 0.        ,\n",
       "         0.        , 0.02272727, 0.        , 0.12272727, 0.06818182,\n",
       "         0.01363636, 0.        ],\n",
       "        [0.        , 0.00904977, 0.02714932, 0.        , 0.        ,\n",
       "         0.05882353, 0.07239819, 0.        , 0.08144796, 0.        ,\n",
       "         0.        , 0.        , 0.11764706, 0.12669683, 0.        ,\n",
       "         0.        , 0.        , 0.04072398, 0.14027149, 0.03167421,\n",
       "         0.04977376, 0.01809955, 0.        , 0.        , 0.        ,\n",
       "         0.        , 0.02262443, 0.        , 0.12217195, 0.0678733 ,\n",
       "         0.01357466, 0.        ],\n",
       "        [0.        , 0.00961538, 0.02884615, 0.        , 0.        ,\n",
       "         0.        , 0.07692308, 0.        , 0.08653846, 0.        ,\n",
       "         0.        , 0.        , 0.125     , 0.13461538, 0.        ,\n",
       "         0.        , 0.        , 0.04326923, 0.14903846, 0.03365385,\n",
       "         0.05288462, 0.01923077, 0.        , 0.        , 0.        ,\n",
       "         0.        , 0.02403846, 0.        , 0.12980769, 0.07211538,\n",
       "         0.01442308, 0.        ],\n",
       "        [0.        , 0.00888889, 0.02666667, 0.        , 0.        ,\n",
       "         0.        , 0.07111111, 0.07555556, 0.08      , 0.        ,\n",
       "         0.        , 0.        , 0.11555556, 0.12444444, 0.        ,\n",
       "         0.        , 0.        , 0.04      , 0.13777778, 0.03111111,\n",
       "         0.04888889, 0.01777778, 0.        , 0.        , 0.        ,\n",
       "         0.        , 0.02222222, 0.        , 0.12      , 0.06666667,\n",
       "         0.01333333, 0.        ],\n",
       "        [0.        , 0.00961538, 0.02884615, 0.        , 0.        ,\n",
       "         0.        , 0.07692308, 0.        , 0.08653846, 0.        ,\n",
       "         0.        , 0.        , 0.125     , 0.13461538, 0.        ,\n",
       "         0.        , 0.        , 0.04326923, 0.14903846, 0.03365385,\n",
       "         0.05288462, 0.01923077, 0.        , 0.        , 0.        ,\n",
       "         0.        , 0.02403846, 0.        , 0.12980769, 0.07211538,\n",
       "         0.01442308, 0.        ],\n",
       "        [0.        , 0.00881057, 0.02643172, 0.        , 0.        ,\n",
       "         0.        , 0.07048458, 0.        , 0.07929515, 0.08370044,\n",
       "         0.        , 0.        , 0.11453744, 0.12334802, 0.        ,\n",
       "         0.        , 0.        , 0.03964758, 0.13656388, 0.030837  ,\n",
       "         0.04845815, 0.01762115, 0.        , 0.        , 0.        ,\n",
       "         0.        , 0.02202643, 0.        , 0.11894273, 0.0660793 ,\n",
       "         0.01321586, 0.        ],\n",
       "        [0.        , 0.00877193, 0.02631579, 0.        , 0.        ,\n",
       "         0.        , 0.07017544, 0.        , 0.07894737, 0.        ,\n",
       "         0.0877193 , 0.        , 0.11403509, 0.12280702, 0.        ,\n",
       "         0.        , 0.        , 0.03947368, 0.13596491, 0.03070175,\n",
       "         0.04824561, 0.01754386, 0.        , 0.        , 0.        ,\n",
       "         0.        , 0.02192982, 0.        , 0.11842105, 0.06578947,\n",
       "         0.01315789, 0.        ],\n",
       "        [0.        , 0.00873362, 0.02620087, 0.        , 0.        ,\n",
       "         0.        , 0.069869  , 0.        , 0.07860262, 0.        ,\n",
       "         0.        , 0.09170306, 0.11353712, 0.12227074, 0.        ,\n",
       "         0.        , 0.        , 0.03930131, 0.13537118, 0.03056769,\n",
       "         0.04803493, 0.01746725, 0.        , 0.        , 0.        ,\n",
       "         0.        , 0.02183406, 0.        , 0.11790393, 0.06550218,\n",
       "         0.01310044, 0.        ],\n",
       "        [0.        , 0.00961538, 0.02884615, 0.        , 0.        ,\n",
       "         0.        , 0.07692308, 0.        , 0.08653846, 0.        ,\n",
       "         0.        , 0.        , 0.125     , 0.13461538, 0.        ,\n",
       "         0.        , 0.        , 0.04326923, 0.14903846, 0.03365385,\n",
       "         0.05288462, 0.01923077, 0.        , 0.        , 0.        ,\n",
       "         0.        , 0.02403846, 0.        , 0.12980769, 0.07211538,\n",
       "         0.01442308, 0.        ],\n",
       "        [0.        , 0.00961538, 0.02884615, 0.        , 0.        ,\n",
       "         0.        , 0.07692308, 0.        , 0.08653846, 0.        ,\n",
       "         0.        , 0.        , 0.125     , 0.13461538, 0.        ,\n",
       "         0.        , 0.        , 0.04326923, 0.14903846, 0.03365385,\n",
       "         0.05288462, 0.01923077, 0.        , 0.        , 0.        ,\n",
       "         0.        , 0.02403846, 0.        , 0.12980769, 0.07211538,\n",
       "         0.01442308, 0.        ],\n",
       "        [0.        , 0.00843882, 0.02531646, 0.        , 0.        ,\n",
       "         0.        , 0.06751055, 0.        , 0.07594937, 0.        ,\n",
       "         0.        , 0.        , 0.10970464, 0.11814346, 0.12236287,\n",
       "         0.        , 0.        , 0.03797468, 0.13080169, 0.02953586,\n",
       "         0.0464135 , 0.01687764, 0.        , 0.        , 0.        ,\n",
       "         0.        , 0.02109705, 0.        , 0.11392405, 0.06329114,\n",
       "         0.01265823, 0.        ],\n",
       "        [0.        , 0.00840336, 0.02521008, 0.        , 0.        ,\n",
       "         0.        , 0.06722689, 0.        , 0.07563025, 0.        ,\n",
       "         0.        , 0.        , 0.1092437 , 0.11764706, 0.        ,\n",
       "         0.12605042, 0.        , 0.03781513, 0.1302521 , 0.02941176,\n",
       "         0.04621849, 0.01680672, 0.        , 0.        , 0.        ,\n",
       "         0.        , 0.0210084 , 0.        , 0.11344538, 0.06302521,\n",
       "         0.01260504, 0.        ]]])"
      ]
     },
     "execution_count": 60,
     "metadata": {},
     "output_type": "execute_result"
    }
   ],
   "source": [
    "e\n",
    "\n"
   ]
  },
  {
   "cell_type": "code",
   "execution_count": null,
   "metadata": {},
   "outputs": [],
   "source": []
  }
 ],
 "metadata": {
  "kernelspec": {
   "display_name": "Python 3",
   "language": "python",
   "name": "python3"
  },
  "language_info": {
   "codemirror_mode": {
    "name": "ipython",
    "version": 3
   },
   "file_extension": ".py",
   "mimetype": "text/x-python",
   "name": "python",
   "nbconvert_exporter": "python",
   "pygments_lexer": "ipython3",
   "version": "3.6.6"
  }
 },
 "nbformat": 4,
 "nbformat_minor": 2
}
